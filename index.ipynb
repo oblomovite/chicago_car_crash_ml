{
 "cells": [
  {
   "cell_type": "markdown",
   "metadata": {},
   "source": [
    "# Business Understanding\n",
    "\n",
    "## Introduction\n",
    "Traffic accidents are a critical public safety issue, causing injuries, fatalities and significant economic losses. Stakeholders such as traffic authorities and emergency services often face challenges in predicting and mitigating injury severity in crashes. Understanding the factors influencing injury outcomes can inform better policies, resource allocation and public safety to reduce injury severity and save lives.\n",
    "\n",
    "## Use Cases\n",
    "- Use the model to identify high-risk conditions (eg. weather, lighting, etc.) and implement measures like improved signage, speed limits or road design to reduce injury severity in traffic accidents.\n",
    "- Predict the severity of injuries based on crash conditions, enabling emergency services to prioritize resources and respond more effectively to severe accidents. \n",
    "\n",
    "## Value Proposition\n",
    "This project aims to develop a classification model that predicts injury severity in traffic crashes. By identifying key high-risk contributing to severe injuries, stakeholders can implement proactive measures to:\n",
    "    - Reduce injury severity in traffic accidents through ad-hoc interventions\n",
    "    - Enhance decision-making and resource allocation for emergency services\n",
    "    - Improve public safety and save lives"
   ]
  },
  {
   "cell_type": "markdown",
   "metadata": {},
   "source": [
    "# Business Objective\n",
    "- The task is to predict the severity of injuries based on the given features:\n",
    "    - Environment: The environment in which the accident occurred.\n",
    "        - POSTED_SPEED_LIMIT: The posted speed limit.\n",
    "        - WEAHTER_CONDITION: The weather condition.\n",
    "        - LIGHTING_CONDITION: The lighting condition.\n",
    "        - ROADWAY_SURFACE_COND: The roadway surface condition.\n",
    "        - ROAD_DEFECT: Whether or not the road was defective.\n",
    "        - TRAFFICWAY_TYPE: The type of trafficway.\n",
    "        - TRAFFIC_CONTROL_DEVICE: The traffic control device present at the location of the accident.\n",
    "    - Crash Dynamics: The dynamics of the crash.\n",
    "        - FIRST_CRASH_TYPE: The type of the first crash.\n",
    "        - TRAFFICWAY_TYPE: The type of trafficway.\n",
    "        - ALIGNMENT: The alignment of the road.\n",
    "        - LANE_CNT: The number of through lanes in either direction.\n",
    "        - CRASH_HOUR: The hour of the crash.\n",
    "        - CRASH_DAY_OF_WEEK: The day of the week of the crash.\n",
    "        - CRASH_MONTH: The month of the crash.\n",
    "    - Human Factors:\n",
    "        - PRIM_CONTRIBUTORY_CAUSE: The primary contributory cause of the accident.\n",
    "        - SEC_CONTRIBUTORY_CAUSE: The secondary contributory cause of the accident.\n",
    "        - HIT_AND_RUN_I: Whether or not the crash involved a hit and run.\n",
    "        - NOT_RIGHT_OF_WAY_I: Whether or not the crash involved a violation of the right of way.\n",
    "        - WORK_ZONE_I: Whether or not the crash occurred in a work zone.\n",
    "    - Location Factors:\n",
    "        - LATITUDE: The latitude of the location of the crash.\n",
    "        - LONGITUDE: The longitude of the location of the crash.\n",
    "        - BEAT_OF_OCCURRENCE: The police beat of occurrence.\n",
    "    - Target:\n",
    "        - MOST_SEVERE_INJURY: Multi-class classification target (eg. FATAL, INCAPACITATING INJURY, NONINCAPACITATING INJURY, REPORTED, NO INJURY).\n"
   ]
  },
  {
   "cell_type": "markdown",
   "metadata": {},
   "source": [
    "# Data Understanding\n",
    "\n",
    "## Introduction\n",
    "The dataset contains information about traffic accidents in Chicago. Stakeholders need reliable data-driven insights to mitigate injury severity and optimize their strategies. The dataset in this project is directly related to the task of predicting injury severity in traffic accidents.\n",
    "\n",
    "## Data Description\n",
    "- The dataset includes detailed records of traffic accidents covering various features such as environment, crash dynamics, human factors, location factors and target variable MOST_SEVERE_INJURY.\n",
    "\n",
    "## Data Quality\n",
    "- The dataset is very large with over 400,000 records and 49 features, providing a rich source of information for analysis.\n",
    "- The dataset comes from the City of Chicago's [open data portal](https://data.cityofchicago.org/Transportation/Traffic-Crashes-Crashes/85ca-t3if) and is updated daily making it a reliable source of information for stakeholders.\n",
    "\n",
    "## Data Relevance\n",
    "- Use data on crash conditions (eg. weather) to identify high-risk conditions take proative measures.\n",
    "- Predict injury severity to prioritize emergency services and allocate resources more effectively. \n",
    "\n",
    "## Conclusion\n",
    "The dataset is robust, relevant and continually updated, making it an indispensable resource for the task of predicting injury severity in traffic accidents. "
   ]
  },
  {
   "cell_type": "markdown",
   "metadata": {},
   "source": [
    "# Data Preparation\n",
    "\n",
    "## Assembly\n",
    "- The source data is comprised of three CSV files:\n",
    "    - [Crash Data](https://data.cityofchicago.org/Transportation/Traffic-Crashes-Crashes/85ca-t3if/about_data)\n",
    "    - [Driver/Passenger Data](https://data.cityofchicago.org/Transportation/Traffic-Crashes-People/u6pd-qa9d/about_data)\n",
    "    - [Vehicles Data](https://data.cityofchicago.org/Transportation/Traffic-Crashes-Vehicles/68nd-jvt3/about_data)\n",
    "- The data will be assembled into a single dataset by joining the three tables on the common key CRASH_RECORD_ID.\n",
    "\n",
    "## Cleaning\n",
    "- Irrelevant columns that do not contribute to the task will be dropped.\n",
    "- Missing values that will be imputed or dropped.\n",
    "\n",
    "## Transformation\n",
    "- Categorical features will be encoded using one-hot encoding.\n",
    "- Numerical features will be scaled using standard scaling.\n",
    "\n",
    "## Splitting\n",
    "- The dataset will be split into training and testing sets using a standard 80/20 split.\n",
    "- These sets will be saved to disk for future use as:\n",
    "    - [X_train](./data/X_train.csv)\n",
    "    - [X_test](./data/X_test.csv)\n",
    "    - [y_train](./data/y_train.csv)\n",
    "    - [y_test](./data/y_test.csv)"
   ]
  },
  {
   "cell_type": "markdown",
   "metadata": {},
   "source": [
    "# Modeling"
   ]
  },
  {
   "cell_type": "markdown",
   "metadata": {},
   "source": [
    "## Import Libraries"
   ]
  },
  {
   "cell_type": "code",
   "execution_count": 15,
   "metadata": {},
   "outputs": [],
   "source": [
    "# import libraries\n",
    "import pandas as pd\n",
    "import numpy as np\n",
    "import matplotlib.pyplot as plt\n",
    "import seaborn as sns\n",
    "from sklearn.preprocessing import StandardScaler\n",
    "from sklearn.model_selection import train_test_split\n",
    "from sklearn.linear_model import LogisticRegression\n",
    "from sklearn.metrics import confusion_matrix, classification_report\n",
    "from sklearn.metrics import roc_curve, roc_auc_score\n",
    "from sklearn.metrics import precision_recall_curve, average_precision_score\n",
    "from sklearn.ensemble import RandomForestClassifier\n",
    "from sklearn.model_selection import GridSearchCV\n",
    "\n"
   ]
  },
  {
   "cell_type": "markdown",
   "metadata": {},
   "source": [
    "## Load Data"
   ]
  },
  {
   "cell_type": "code",
   "execution_count": 16,
   "metadata": {},
   "outputs": [
    {
     "name": "stderr",
     "output_type": "stream",
     "text": [
      "/var/folders/zp/h7t69w7n1jvg_7vxjttlw77c0000gn/T/ipykernel_85126/3777448099.py:3: DtypeWarning: Columns (18,20,22,23,39,40,41,42,43,47,48,49,50,51,52,53,54,55,56,57,58,59,60,68,69,70) have mixed types. Specify dtype option on import or set low_memory=False.\n",
      "  data_vehicles = pd.read_csv('./data/Traffic_Crashes_-_Vehicles_20250122.csv')\n",
      "/var/folders/zp/h7t69w7n1jvg_7vxjttlw77c0000gn/T/ipykernel_85126/3777448099.py:4: DtypeWarning: Columns (19,28) have mixed types. Specify dtype option on import or set low_memory=False.\n",
      "  data_people = pd.read_csv('./data/Traffic_Crashes_-_People_20250122.csv')\n"
     ]
    }
   ],
   "source": [
    "# load data\n",
    "data_crashes = pd.read_csv('./data/Traffic_Crashes_-_Crashes_20250122.csv')\n",
    "data_vehicles = pd.read_csv('./data/Traffic_Crashes_-_Vehicles_20250122.csv')\n",
    "data_people = pd.read_csv('./data/Traffic_Crashes_-_People_20250122.csv')"
   ]
  },
  {
   "cell_type": "markdown",
   "metadata": {},
   "source": [
    "## Inspect Data and Select Relevant Features"
   ]
  },
  {
   "cell_type": "code",
   "execution_count": 17,
   "metadata": {},
   "outputs": [],
   "source": [
    "# create a variable to store the features to be used in the model\n",
    "features = []"
   ]
  },
  {
   "cell_type": "code",
   "execution_count": 18,
   "metadata": {},
   "outputs": [
    {
     "name": "stdout",
     "output_type": "stream",
     "text": [
      "<class 'pandas.core.frame.DataFrame'>\n",
      "RangeIndex: 911691 entries, 0 to 911690\n",
      "Data columns (total 48 columns):\n",
      " #   Column                         Non-Null Count   Dtype  \n",
      "---  ------                         --------------   -----  \n",
      " 0   CRASH_RECORD_ID                911691 non-null  object \n",
      " 1   CRASH_DATE_EST_I               67246 non-null   object \n",
      " 2   CRASH_DATE                     911691 non-null  object \n",
      " 3   POSTED_SPEED_LIMIT             911691 non-null  int64  \n",
      " 4   TRAFFIC_CONTROL_DEVICE         911691 non-null  object \n",
      " 5   DEVICE_CONDITION               911691 non-null  object \n",
      " 6   WEATHER_CONDITION              911691 non-null  object \n",
      " 7   LIGHTING_CONDITION             911691 non-null  object \n",
      " 8   FIRST_CRASH_TYPE               911691 non-null  object \n",
      " 9   TRAFFICWAY_TYPE                911691 non-null  object \n",
      " 10  LANE_CNT                       199023 non-null  float64\n",
      " 11  ALIGNMENT                      911691 non-null  object \n",
      " 12  ROADWAY_SURFACE_COND           911691 non-null  object \n",
      " 13  ROAD_DEFECT                    911691 non-null  object \n",
      " 14  REPORT_TYPE                    883115 non-null  object \n",
      " 15  CRASH_TYPE                     911691 non-null  object \n",
      " 16  INTERSECTION_RELATED_I         209566 non-null  object \n",
      " 17  NOT_RIGHT_OF_WAY_I             41453 non-null   object \n",
      " 18  HIT_AND_RUN_I                  285907 non-null  object \n",
      " 19  DAMAGE                         911691 non-null  object \n",
      " 20  DATE_POLICE_NOTIFIED           911691 non-null  object \n",
      " 21  PRIM_CONTRIBUTORY_CAUSE        911691 non-null  object \n",
      " 22  SEC_CONTRIBUTORY_CAUSE         911691 non-null  object \n",
      " 23  STREET_NO                      911691 non-null  int64  \n",
      " 24  STREET_DIRECTION               911687 non-null  object \n",
      " 25  STREET_NAME                    911690 non-null  object \n",
      " 26  BEAT_OF_OCCURRENCE             911686 non-null  float64\n",
      " 27  PHOTOS_TAKEN_I                 12526 non-null   object \n",
      " 28  STATEMENTS_TAKEN_I             21112 non-null   object \n",
      " 29  DOORING_I                      2870 non-null    object \n",
      " 30  WORK_ZONE_I                    5059 non-null    object \n",
      " 31  WORK_ZONE_TYPE                 3902 non-null    object \n",
      " 32  WORKERS_PRESENT_I              1302 non-null    object \n",
      " 33  NUM_UNITS                      911691 non-null  int64  \n",
      " 34  MOST_SEVERE_INJURY             909681 non-null  object \n",
      " 35  INJURIES_TOTAL                 909695 non-null  float64\n",
      " 36  INJURIES_FATAL                 909695 non-null  float64\n",
      " 37  INJURIES_INCAPACITATING        909695 non-null  float64\n",
      " 38  INJURIES_NON_INCAPACITATING    909695 non-null  float64\n",
      " 39  INJURIES_REPORTED_NOT_EVIDENT  909695 non-null  float64\n",
      " 40  INJURIES_NO_INDICATION         909695 non-null  float64\n",
      " 41  INJURIES_UNKNOWN               909695 non-null  float64\n",
      " 42  CRASH_HOUR                     911691 non-null  int64  \n",
      " 43  CRASH_DAY_OF_WEEK              911691 non-null  int64  \n",
      " 44  CRASH_MONTH                    911691 non-null  int64  \n",
      " 45  LATITUDE                       905040 non-null  float64\n",
      " 46  LONGITUDE                      905040 non-null  float64\n",
      " 47  LOCATION                       905040 non-null  object \n",
      "dtypes: float64(11), int64(6), object(31)\n",
      "memory usage: 333.9+ MB\n"
     ]
    }
   ],
   "source": [
    "# inspect data\n",
    "data_crashes.info()"
   ]
  },
  {
   "cell_type": "markdown",
   "metadata": {},
   "source": [
    "## Feature Selection for Crash Data\n",
    "- WEATHER_CONDITION, LIGHTING_CONDITION\n",
    "- ROADWAY_SURFACE_COND, ROAD_DEFECT, ALIGNMENT, LANE_CNT\n",
    "- TRAFFICWAY_TYPE, TRAFFIC_CONTROL_DEVICE, POSTED_SPEED_LIMIT\n",
    "- DAMAGE\n",
    "- CRASH_HOUR, CRASH_DAY_OF_WEEK, CRASH_MONTH\n",
    "- LATITUDE, LONGITUDE, BEAT_OF_OCCURRENCE\n",
    "- PRIM_CONTRIBUTORY_CAUSE, SEC_CONTRIBUTORY_CAUSE, HIT_AND_RUN_I, NOT_RIGHT_OF_WAY_I, WORK_ZONE_I\n",
    "- MOST_SEVERE_INJURY, INJURIES_TOTAL, INJURIES_FATAL, INJURIES_INCAPACITATING, INJURIES_NON_INCAPACITATING, INJURIES_REPORTED_NOT_EVIDENT, INJURIES_NO_INDICATION\n"
   ]
  },
  {
   "cell_type": "code",
   "execution_count": 19,
   "metadata": {},
   "outputs": [],
   "source": [
    "# add selected features from crashes data\n",
    "features += [\n",
    "    'WEATHER_CONDITION', \n",
    "    'LIGHTING_CONDITION', \n",
    "\n",
    "    'ROADWAY_SURFACE_COND', \n",
    "    'ROAD_DEFECT',\n",
    "    'ALIGNMENT',\n",
    "    'LANE_CNT',\n",
    "\n",
    "    'TRAFFICWAY_TYPE',\n",
    "    'TRAFFIC_CONTROL_DEVICE',\n",
    "    'POSTED_SPEED_LIMIT',\n",
    "    \n",
    "    'DAMAGE',\n",
    "\n",
    "    'CRASH_HOUR',\n",
    "    'CRASH_DAY_OF_WEEK',\n",
    "    'CRASH_MONTH',\n",
    "    \n",
    "    'LATITUDE',\n",
    "    'LONGITUDE',\n",
    "    'BEAT_OF_OCCURRENCE',\n",
    "    \n",
    "    'PRIM_CONTRIBUTORY_CAUSE',\n",
    "    'SEC_CONTRIBUTORY_CAUSE',\n",
    "    'HIT_AND_RUN_I',\n",
    "    'NOT_RIGHT_OF_WAY_I',\n",
    "    'WORK_ZONE_I',\n",
    "    \n",
    "    # target variable\n",
    "    'MOST_SEVERE_INJURY',\n",
    "    'INJURIES_TOTAL',\n",
    "    'INJURIES_FATAL',\n",
    "    'INJURIES_INCAPACITATING',\n",
    "    'INJURIES_NON_INCAPACITATING',\n",
    "    'INJURIES_REPORTED_NOT_EVIDENT',\n",
    "    'INJURIES_NO_INDICATION'\n",
    "\n",
    "    ]"
   ]
  },
  {
   "cell_type": "code",
   "execution_count": 20,
   "metadata": {},
   "outputs": [
    {
     "name": "stdout",
     "output_type": "stream",
     "text": [
      "<class 'pandas.core.frame.DataFrame'>\n",
      "RangeIndex: 1859619 entries, 0 to 1859618\n",
      "Data columns (total 71 columns):\n",
      " #   Column                    Dtype  \n",
      "---  ------                    -----  \n",
      " 0   CRASH_UNIT_ID             int64  \n",
      " 1   CRASH_RECORD_ID           object \n",
      " 2   CRASH_DATE                object \n",
      " 3   UNIT_NO                   int64  \n",
      " 4   UNIT_TYPE                 object \n",
      " 5   NUM_PASSENGERS            float64\n",
      " 6   VEHICLE_ID                float64\n",
      " 7   CMRC_VEH_I                object \n",
      " 8   MAKE                      object \n",
      " 9   MODEL                     object \n",
      " 10  LIC_PLATE_STATE           object \n",
      " 11  VEHICLE_YEAR              float64\n",
      " 12  VEHICLE_DEFECT            object \n",
      " 13  VEHICLE_TYPE              object \n",
      " 14  VEHICLE_USE               object \n",
      " 15  TRAVEL_DIRECTION          object \n",
      " 16  MANEUVER                  object \n",
      " 17  TOWED_I                   object \n",
      " 18  FIRE_I                    object \n",
      " 19  OCCUPANT_CNT              float64\n",
      " 20  EXCEED_SPEED_LIMIT_I      object \n",
      " 21  TOWED_BY                  object \n",
      " 22  TOWED_TO                  object \n",
      " 23  AREA_00_I                 object \n",
      " 24  AREA_01_I                 object \n",
      " 25  AREA_02_I                 object \n",
      " 26  AREA_03_I                 object \n",
      " 27  AREA_04_I                 object \n",
      " 28  AREA_05_I                 object \n",
      " 29  AREA_06_I                 object \n",
      " 30  AREA_07_I                 object \n",
      " 31  AREA_08_I                 object \n",
      " 32  AREA_09_I                 object \n",
      " 33  AREA_10_I                 object \n",
      " 34  AREA_11_I                 object \n",
      " 35  AREA_12_I                 object \n",
      " 36  AREA_99_I                 object \n",
      " 37  FIRST_CONTACT_POINT       object \n",
      " 38  CMV_ID                    float64\n",
      " 39  USDOT_NO                  object \n",
      " 40  CCMC_NO                   object \n",
      " 41  ILCC_NO                   object \n",
      " 42  COMMERCIAL_SRC            object \n",
      " 43  GVWR                      object \n",
      " 44  CARRIER_NAME              object \n",
      " 45  CARRIER_STATE             object \n",
      " 46  CARRIER_CITY              object \n",
      " 47  HAZMAT_PLACARDS_I         object \n",
      " 48  HAZMAT_NAME               object \n",
      " 49  UN_NO                     object \n",
      " 50  HAZMAT_PRESENT_I          object \n",
      " 51  HAZMAT_REPORT_I           object \n",
      " 52  HAZMAT_REPORT_NO          object \n",
      " 53  MCS_REPORT_I              object \n",
      " 54  MCS_REPORT_NO             object \n",
      " 55  HAZMAT_VIO_CAUSE_CRASH_I  object \n",
      " 56  MCS_VIO_CAUSE_CRASH_I     object \n",
      " 57  IDOT_PERMIT_NO            object \n",
      " 58  WIDE_LOAD_I               object \n",
      " 59  TRAILER1_WIDTH            object \n",
      " 60  TRAILER2_WIDTH            object \n",
      " 61  TRAILER1_LENGTH           float64\n",
      " 62  TRAILER2_LENGTH           float64\n",
      " 63  TOTAL_VEHICLE_LENGTH      float64\n",
      " 64  AXLE_CNT                  float64\n",
      " 65  VEHICLE_CONFIG            object \n",
      " 66  CARGO_BODY_TYPE           object \n",
      " 67  LOAD_TYPE                 object \n",
      " 68  HAZMAT_OUT_OF_SERVICE_I   object \n",
      " 69  MCS_OUT_OF_SERVICE_I      object \n",
      " 70  HAZMAT_CLASS              object \n",
      "dtypes: float64(9), int64(2), object(60)\n",
      "memory usage: 1007.3+ MB\n"
     ]
    }
   ],
   "source": [
    "data_vehicles.info()"
   ]
  },
  {
   "cell_type": "markdown",
   "metadata": {},
   "source": [
    "## Feature Selection for Driver/Passenger\n",
    "- OCCUPANT_CNT\n",
    "- VEHICLE_DEFECT, VEHICLE_TYPE, VEHICLE_USE\n",
    "- EXCEED_SPEED_LIMIT_I\n",
    "- FIRST_CONTACT_POINT"
   ]
  },
  {
   "cell_type": "code",
   "execution_count": 21,
   "metadata": {},
   "outputs": [],
   "source": [
    "# add selected features from vehicles data\n",
    "features += [\n",
    "    'OCCUPANT_CNT',\n",
    "    'VEHICLE_DEFECT', \n",
    "    'VEHICLE_TYPE', \n",
    "    'VEHICLE_USE', \n",
    "    'EXCEED_SPEED_LIMIT_I',\n",
    "    'FIRST_CONTACT_POINT'\n",
    "    ]"
   ]
  },
  {
   "cell_type": "code",
   "execution_count": 22,
   "metadata": {},
   "outputs": [
    {
     "name": "stdout",
     "output_type": "stream",
     "text": [
      "<class 'pandas.core.frame.DataFrame'>\n",
      "RangeIndex: 2000830 entries, 0 to 2000829\n",
      "Data columns (total 29 columns):\n",
      " #   Column                 Dtype  \n",
      "---  ------                 -----  \n",
      " 0   PERSON_ID              object \n",
      " 1   PERSON_TYPE            object \n",
      " 2   CRASH_RECORD_ID        object \n",
      " 3   VEHICLE_ID             float64\n",
      " 4   CRASH_DATE             object \n",
      " 5   SEAT_NO                float64\n",
      " 6   CITY                   object \n",
      " 7   STATE                  object \n",
      " 8   ZIPCODE                object \n",
      " 9   SEX                    object \n",
      " 10  AGE                    float64\n",
      " 11  DRIVERS_LICENSE_STATE  object \n",
      " 12  DRIVERS_LICENSE_CLASS  object \n",
      " 13  SAFETY_EQUIPMENT       object \n",
      " 14  AIRBAG_DEPLOYED        object \n",
      " 15  EJECTION               object \n",
      " 16  INJURY_CLASSIFICATION  object \n",
      " 17  HOSPITAL               object \n",
      " 18  EMS_AGENCY             object \n",
      " 19  EMS_RUN_NO             object \n",
      " 20  DRIVER_ACTION          object \n",
      " 21  DRIVER_VISION          object \n",
      " 22  PHYSICAL_CONDITION     object \n",
      " 23  PEDPEDAL_ACTION        object \n",
      " 24  PEDPEDAL_VISIBILITY    object \n",
      " 25  PEDPEDAL_LOCATION      object \n",
      " 26  BAC_RESULT             object \n",
      " 27  BAC_RESULT VALUE       float64\n",
      " 28  CELL_PHONE_USE         object \n",
      "dtypes: float64(4), object(25)\n",
      "memory usage: 442.7+ MB\n"
     ]
    }
   ],
   "source": [
    "data_people.info()"
   ]
  },
  {
   "cell_type": "markdown",
   "metadata": {},
   "source": [
    "## Feature Selection for Vehicles\n",
    "- AGE, SEX\n",
    "- AIRBAG_DEPLOYED, EJECTION, SAFETY_EQUIPMENT\n",
    "- CELL_PHONE_USE\n",
    "- PHYSICAL_CONDITION \n",
    "- INJURY_CLASSIFICATION"
   ]
  },
  {
   "cell_type": "code",
   "execution_count": 23,
   "metadata": {},
   "outputs": [],
   "source": [
    "# add selected features from people data\n",
    "features += [\n",
    "    'AGE',\n",
    "    'SEX',\n",
    "    'AIRBAG_DEPLOYED',\n",
    "    'EJECTION',\n",
    "    'SAFETY_EQUIPMENT',\n",
    "    'CELL_PHONE_USE',\n",
    "    'PHYSICAL_CONDITION',\n",
    "    'INJURY_CLASSIFICATION'\n",
    "]"
   ]
  },
  {
   "cell_type": "markdown",
   "metadata": {},
   "source": [
    "## Merge Data from Three Tables\n",
    "- The three tables will be merged on the common key CRASH_RECORD_ID.\n",
    "- Use 'left' join strategy to retain all records from the Crash Data table.\n",
    "    - This is because the Crash Data table is the primary table and we want to retain all records from it."
   ]
  },
  {
   "cell_type": "code",
   "execution_count": 24,
   "metadata": {},
   "outputs": [
    {
     "name": "stdout",
     "output_type": "stream",
     "text": [
      "<class 'pandas.core.frame.DataFrame'>\n",
      "RangeIndex: 4206348 entries, 0 to 4206347\n",
      "Columns: 146 entries, CRASH_RECORD_ID to CELL_PHONE_USE\n",
      "dtypes: float64(24), int64(8), object(114)\n",
      "memory usage: 4.6+ GB\n"
     ]
    }
   ],
   "source": [
    "# merge data on CRASH_RECORD_ID \n",
    "data = data_crashes.merge(data_vehicles, on='CRASH_RECORD_ID', how='left')\n",
    "data = data.merge(data_people, on='CRASH_RECORD_ID', how='left')\n",
    "\n",
    "# inspect resulting data\n",
    "data.info()\n"
   ]
  },
  {
   "cell_type": "markdown",
   "metadata": {},
   "source": [
    "## Select Relevant Features & Remove Duplicates\n",
    "- Remove features that are not relevant to the task.\n",
    "- Remove duplicate records."
   ]
  },
  {
   "cell_type": "code",
   "execution_count": 25,
   "metadata": {},
   "outputs": [],
   "source": [
    "# select relevant features\n",
    "data = data[features]\n",
    "\n",
    "# drop redundant columns\n",
    "data = data.loc[:, ~data.columns.duplicated()]\n",
    "\n",
    "# drop duplicates in rows (optional)\n",
    "data = data.drop_duplicates()"
   ]
  },
  {
   "cell_type": "markdown",
   "metadata": {},
   "source": [
    "## Checkpoint the Data for Future Use\n",
    "- Save the merged dataset to disk for future use as:\n",
    "    - [data](./data/data.csv)"
   ]
  },
  {
   "cell_type": "code",
   "execution_count": 26,
   "metadata": {},
   "outputs": [],
   "source": [
    "# save merged and cleaned data\n",
    "data.to_csv('./data/data.csv', index=False)"
   ]
  }
 ],
 "metadata": {
  "kernelspec": {
   "display_name": "Python 3",
   "language": "python",
   "name": "python3"
  },
  "language_info": {
   "codemirror_mode": {
    "name": "ipython",
    "version": 3
   },
   "file_extension": ".py",
   "mimetype": "text/x-python",
   "name": "python",
   "nbconvert_exporter": "python",
   "pygments_lexer": "ipython3",
   "version": "3.9.18"
  }
 },
 "nbformat": 4,
 "nbformat_minor": 2
}
