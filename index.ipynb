{
  "cells": [
    {
      "cell_type": "markdown",
      "metadata": {},
      "source": [
        "# Business Understanding\n",
        "\n",
        "## Introduction\n",
        "Traffic accidents are a critical public safety issue, causing injuries, fatalities and significant economic losses. Stakeholders such as traffic authorities and emergency services often face challenges in predicting and mitigating injury severity in crashes. Understanding the factors influencing injury outcomes can inform better policies, resource allocation and public safety to reduce injury severity and save lives.\n",
        "\n",
        "## Use Cases\n",
        "- Use the model to identify high-risk conditions (eg. weather, lighting, etc.) and implement measures like improved signage, speed limits or road design to reduce injury severity in traffic accidents.\n",
        "- Predict the severity of injuries based on crash conditions, enabling emergency services to prioritize resources and respond more effectively to severe accidents. \n",
        "\n",
        "## Value Proposition\n",
        "This project aims to develop a classification model that predicts injury severity in traffic crashes. By identifying key high-risk contributing to severe injuries, stakeholders can implement proactive measures to:\n",
        "    - Reduce injury severity in traffic accidents through ad-hoc interventions\n",
        "    - Enhance decision-making and resource allocation for emergency services\n",
        "    - Improve public safety and save lives"
      ]
    },
    {
      "cell_type": "markdown",
      "metadata": {},
      "source": [
        "# Business Objective\n",
        "- The task is to predict the severity of injuries based on the given features:\n",
        "    - Environment: The environment in which the accident occurred.\n",
        "        - POSTED_SPEED_LIMIT: The posted speed limit.\n",
        "        - WEAHTER_CONDITION: The weather condition.\n",
        "        - LIGHTING_CONDITION: The lighting condition.\n",
        "        - ROADWAY_SURFACE_COND: The roadway surface condition.\n",
        "        - ROAD_DEFECT: Whether or not the road was defective.\n",
        "        - TRAFFICWAY_TYPE: The type of trafficway.\n",
        "        - TRAFFIC_CONTROL_DEVICE: The traffic control device present at the location of the accident.\n",
        "    - Crash Dynamics: The dynamics of the crash.\n",
        "        - FIRST_CRASH_TYPE: The type of the first crash.\n",
        "        - TRAFFICWAY_TYPE: The type of trafficway.\n",
        "        - ALIGNMENT: The alignment of the road.\n",
        "        - LANE_CNT: The number of through lanes in either direction.\n",
        "        - CRASH_HOUR: The hour of the crash.\n",
        "        - CRASH_DAY_OF_WEEK: The day of the week of the crash.\n",
        "        - CRASH_MONTH: The month of the crash.\n",
        "    - Human Factors:\n",
        "        - PRIM_CONTRIBUTORY_CAUSE: The primary contributory cause of the accident.\n",
        "        - SEC_CONTRIBUTORY_CAUSE: The secondary contributory cause of the accident.\n",
        "        - HIT_AND_RUN_I: Whether or not the crash involved a hit and run.\n",
        "        - NOT_RIGHT_OF_WAY_I: Whether or not the crash involved a violation of the right of way.\n",
        "        - WORK_ZONE_I: Whether or not the crash occurred in a work zone.\n",
        "    - Location Factors:\n",
        "        - LATITUDE: The latitude of the location of the crash.\n",
        "        - LONGITUDE: The longitude of the location of the crash.\n",
        "        - BEAT_OF_OCCURRENCE: The police beat of occurrence.\n",
        "    - Target:\n",
        "        - MOST_SEVERE_INJURY: Multi-class classification target (eg. FATAL, INCAPACITATING INJURY, NONINCAPACITATING INJURY, REPORTED, NO INJURY).\n"
      ]
    },
    {
      "cell_type": "markdown",
      "metadata": {},
      "source": [
        "# Data Understanding\n",
        "\n",
        "## Introduction\n",
        "The dataset contains information about traffic accidents in Chicago. Stakeholders need reliable data-driven insights to mitigate injury severity and optimize their strategies. The dataset in this project is directly related to the task of predicting injury severity in traffic accidents.\n",
        "\n",
        "## Data Description\n",
        "- The dataset includes detailed records of traffic accidents covering various features such as environment, crash dynamics, human factors, location factors and target variable MOST_SEVERE_INJURY.\n",
        "\n",
        "## Data Quality\n",
        "- The dataset is very large with over 400,000 records and 49 features, providing a rich source of information for analysis.\n",
        "- The dataset comes from the City of Chicago's [open data portal](https://data.cityofchicago.org/Transportation/Traffic-Crashes-Crashes/85ca-t3if) and is updated daily making it a reliable source of information for stakeholders.\n",
        "\n",
        "## Data Relevance\n",
        "- Use data on crash conditions (eg. weather) to identify high-risk conditions take proative measures.\n",
        "- Predict injury severity to prioritize emergency services and allocate resources more effectively. \n",
        "\n",
        "## Conclusion\n",
        "The dataset is robust, relevant and continually updated, making it an indispensable resource for the task of predicting injury severity in traffic accidents. "
      ]
    },
    {
      "cell_type": "markdown",
      "metadata": {},
      "source": [
        "# Data Preparation\n",
        "\n",
        "## Assembly\n",
        "- The source data is comprised of three CSV files:\n",
        "    - [Crash Data](https://data.cityofchicago.org/Transportation/Traffic-Crashes-Crashes/85ca-t3if/about_data)\n",
        "    - [Driver/Passenger Data](https://data.cityofchicago.org/Transportation/Traffic-Crashes-People/u6pd-qa9d/about_data)\n",
        "    - [Vehicles Data](https://data.cityofchicago.org/Transportation/Traffic-Crashes-Vehicles/68nd-jvt3/about_data)\n",
        "- The data will be assembled into a single dataset by joining the three tables on the common key CRASH_RECORD_ID.\n",
        "\n",
        "## Cleaning\n",
        "- Irrelevant columns that do not contribute to the task will be dropped.\n",
        "- Missing values that will be imputed or dropped.\n",
        "\n",
        "## Transformation\n",
        "- Categorical features will be encoded using one-hot encoding.\n",
        "- Numerical features will be scaled using standard scaling.\n",
        "\n",
        "## Splitting\n",
        "- The dataset will be split into training and testing sets using a standard 80/20 split.\n",
        "- These sets will be saved to disk for future use as:\n",
        "    - [X_train](./data/X_train.csv)\n",
        "    - [X_test](./data/X_test.csv)\n",
        "    - [y_train](./data/y_train.csv)\n",
        "    - [y_test](./data/y_test.csv)"
      ]
    },
    {
      "cell_type": "markdown",
      "metadata": {},
      "source": [
        "# Modeling"
      ]
    },
    {
      "cell_type": "markdown",
      "metadata": {},
      "source": [
        "## Import Libraries"
      ]
    },
    {
      "cell_type": "code",
      "execution_count": 1,
      "metadata": {},
      "outputs": [
        {
          "name": "stderr",
          "output_type": "stream",
          "text": [
            "/var/folders/zp/h7t69w7n1jvg_7vxjttlw77c0000gn/T/ipykernel_27071/2624536287.py:2: DeprecationWarning: \n",
            "Pyarrow will become a required dependency of pandas in the next major release of pandas (pandas 3.0),\n",
            "(to allow more performant data types, such as the Arrow string type, and better interoperability with other libraries)\n",
            "but was not found to be installed on your system.\n",
            "If this would cause problems for you,\n",
            "please provide us feedback at https://github.com/pandas-dev/pandas/issues/54466\n",
            "        \n",
            "  import pandas as pd\n"
          ]
        }
      ],
      "source": [
        "# import libraries\n",
        "import pandas as pd\n",
        "import numpy as np\n",
        "import matplotlib.pyplot as plt\n",
        "import seaborn as sns\n",
        "from sklearn.preprocessing import StandardScaler\n",
        "from sklearn.model_selection import train_test_split\n",
        "from sklearn.linear_model import LogisticRegression\n",
        "from sklearn.metrics import confusion_matrix, classification_report\n",
        "from sklearn.metrics import roc_curve, roc_auc_score\n",
        "from sklearn.metrics import precision_recall_curve, average_precision_score\n",
        "from sklearn.ensemble import RandomForestClassifier\n",
        "from sklearn.model_selection import GridSearchCV\n",
        "from sklearn.feature_selection import chi2\n",
        "from sklearn.preprocessing import OneHotEncoder, LabelEncoder\n",
        "from sklearn.feature_selection import f_classif\n",
        "from statsmodels.stats.outliers_influence import variance_inflation_factor\n",
        "from scipy.sparse import hstack\n",
        "from imblearn.over_sampling import SMOTE\n",
        "from imblearn.pipeline import Pipeline\n",
        "from sklearn.preprocessing import StandardScaler\n",
        "from sklearn.linear_model import LogisticRegression\n",
        "from sklearn.model_selection import cross_val_score"
      ]
    },
    {
      "cell_type": "markdown",
      "metadata": {},
      "source": [
        "## Load Data"
      ]
    },
    {
      "cell_type": "code",
      "execution_count": 2,
      "metadata": {},
      "outputs": [
        {
          "name": "stderr",
          "output_type": "stream",
          "text": [
            "/var/folders/zp/h7t69w7n1jvg_7vxjttlw77c0000gn/T/ipykernel_27071/710280419.py:3: DtypeWarning: Columns (18,20,22,23,39,40,41,42,43,47,48,49,50,51,52,53,54,55,56,57,58,59,60,68,69,70) have mixed types. Specify dtype option on import or set low_memory=False.\n",
            "  data_vehicles = pd.read_csv('./data/Traffic_Crashes_-_Vehicles_20250122.csv')\n",
            "/var/folders/zp/h7t69w7n1jvg_7vxjttlw77c0000gn/T/ipykernel_27071/710280419.py:4: DtypeWarning: Columns (19,28) have mixed types. Specify dtype option on import or set low_memory=False.\n",
            "  data_people = pd.read_csv('./data/Traffic_Crashes_-_People_20250122.csv')\n"
          ]
        }
      ],
      "source": [
        "# load data\n",
        "data = pd.read_csv('./data/Traffic_Crashes_-_Crashes_20250122.csv')\n",
        "data_vehicles = pd.read_csv('./data/Traffic_Crashes_-_Vehicles_20250122.csv')\n",
        "data_people = pd.read_csv('./data/Traffic_Crashes_-_People_20250122.csv')"
      ]
    },
    {
      "cell_type": "code",
      "execution_count": 3,
      "metadata": {},
      "outputs": [],
      "source": [
        "# merge data\n",
        "data = data.merge(data_vehicles, on='CRASH_RECORD_ID')\n",
        "data = data.merge(data_people, on='CRASH_RECORD_ID')"
      ]
    },
    {
      "cell_type": "markdown",
      "metadata": {},
      "source": [
        "## Data Preprocessing\n",
        "- Handle missing values using imputation or dropping.\n",
        "- Drop columns with a high rate (> 50%) missing values."
      ]
    },
    {
      "cell_type": "code",
      "execution_count": 4,
      "metadata": {},
      "outputs": [],
      "source": [
        "# calculate null percentages\n",
        "null_percentage = data.isnull().mean() * 100\n",
        "\n",
        "# drop columns with more than 50% missing values\n",
        "columns_to_drop = null_percentage[null_percentage > 50].index\n",
        "data = data.drop(columns=columns_to_drop)"
      ]
    },
    {
      "cell_type": "markdown",
      "metadata": {},
      "source": [
        "### Imputing Missing Values\n",
        "- Numerical features missing values will be imputed using the median.\n",
        "- Categorical features missing values will be imputed using the mode."
      ]
    },
    {
      "cell_type": "code",
      "execution_count": 5,
      "metadata": {},
      "outputs": [],
      "source": [
        "# fill categorical columns with mode\n",
        "for column in data.select_dtypes(include='object').columns:\n",
        "    mode_value = data[column].mode()[0]\n",
        "    data[column] = data[column].fillna(mode_value)\n",
        "\n",
        "# fill numerical columns with median\n",
        "for column in data.select_dtypes(include=['float64', 'int64']).columns:\n",
        "    median_value = data[column].median()\n",
        "    data[column] = data[column].fillna(median_value)"
      ]
    },
    {
      "cell_type": "markdown",
      "metadata": {},
      "source": [
        "## Feature Analysis & Selection\n",
        "- Separate features and target variable.\n",
        "- Perform feature analysis to identify important features.\n",
        "- Select features based on importance scores."
      ]
    },
    {
      "cell_type": "code",
      "execution_count": 6,
      "metadata": {},
      "outputs": [],
      "source": [
        "# separate features and target\n",
        "X = data.drop(columns='MOST_SEVERE_INJURY')\n",
        "y = data['MOST_SEVERE_INJURY']"
      ]
    },
    {
      "cell_type": "markdown",
      "metadata": {},
      "source": [
        "## Feature Engineering & Outlier Removal\n",
        "- Group features values with low frequency into a single category."
      ]
    },
    {
      "cell_type": "code",
      "execution_count": 7,
      "metadata": {},
      "outputs": [],
      "source": [
        "# # replace low frequency categories with 'OTHER'\n",
        "# def group_rare_categories(data, col, threshold=2000):\n",
        "#     freq = data[col].value_counts()\n",
        "#     rare_labels = freq[freq < threshold].index\n",
        "#     return data[col].apply(lambda x: 'OTHER' if x in rare_labels else x)\n",
        "# \n",
        "# # Apply grouping to all categorical features\n",
        "# for feature in data.select_dtypes(include='object').columns:\n",
        "#     data[feature] = group_rare_categories(data, feature, threshold=200)\n",
        "# "
      ]
    },
    {
      "cell_type": "markdown",
      "metadata": {},
      "source": [
        "### Feature Selection for Categorical Features\n",
        "- Encode categorical features using one-hot encoding.\n",
        "- Encode target variable using label encoding.\n",
        "- Perform feature selection using chi-squared test.\n",
        "- Drop features outside p-value threshold."
      ]
    },
    {
      "cell_type": "code",
      "execution_count": 8,
      "metadata": {},
      "outputs": [],
      "source": [
        "# select categorical columns\n",
        "categorical = data.select_dtypes(include='object').columns"
      ]
    },
    {
      "cell_type": "code",
      "execution_count": 9,
      "metadata": {},
      "outputs": [],
      "source": [
        "# save categorical to csv\n",
        "categorical_columns_df = pd.DataFrame(categorical, columns=['Categorical_Columns'])\n",
        "categorical_columns_df.to_csv('./data/categorical_columns.csv', index=False)"
      ]
    },
    {
      "cell_type": "code",
      "execution_count": 10,
      "metadata": {},
      "outputs": [],
      "source": [
        "categorical_drop = [\n",
        "\n",
        "    # IDs\n",
        "    'CRASH_RECORD_ID',\n",
        "    'PERSON_ID', \n",
        "    'USDOT_NO', \n",
        "    'CCMC_NO', \n",
        "    'ILCC_NO', \n",
        "    'UN_NO', \n",
        "    'EMS_RUN_NO', \n",
        "    'IDOT_PERMIT_NO',\n",
        "\n",
        "    # Dates\n",
        "    'DATE_POLICE_NOTIFIED',\n",
        "    'CRASH_DATE_EST_I',\n",
        "    'CRASH_DATE_x',\n",
        "    'CRASH_DATE_x',\n",
        "    'CRASH_DATE_y',\n",
        "    'DATE_ACCIDENT',\n",
        "    'DATE_POLICE_NOTIFIED',\n",
        "    'CRASH_DATE_EST_I',\n",
        "\n",
        "    # Geographic\n",
        "    'CITY',\n",
        "    'STATE',\n",
        "    'ZIPCODE',\n",
        "    'LATITUDE',\n",
        "    'LONGITUDE',\n",
        "    'LOCATION', \n",
        "    'STREET_NAME',\n",
        "    'STREET_DIRECTION',\n",
        "    'CARRIER_STATE', \n",
        "    'CARRIER_CITY',\n",
        "\n",
        "    # # Misc.\n",
        "    'TOWED_BY',\n",
        "    'TOWED_TO',\n",
        "    'AREA_00_I',\n",
        "    'AREA_01_I',\n",
        "    'AREA_02_I',\n",
        "    'AREA_03_I',\n",
        "    'AREA_04_I',\n",
        "    'AREA_05_I',\n",
        "    'AREA_06_I',\n",
        "    'AREA_07_I',\n",
        "    'AREA_08_I',\n",
        "    'AREA_09_I',\n",
        "    'AREA_10_I',\n",
        "    'AREA_11_I',\n",
        "    'AREA_12_I',\n",
        "    'AREA_99_I',\n",
        "    'WORK_ZONE_TYPE',\n",
        "\n",
        "    # 'PHOTOS_TAKEN_I', \n",
        "    'STATEMENTS_TAKEN_I', \n",
        "    'DOORING_I',\n",
        "    'WIDE_LOAD_I',\n",
        "\n",
        "    # # Vehicle\n",
        "    'VEHICLE_ID',\n",
        "    'MAKE',\n",
        "    'MODEL',\n",
        "    'LIC_PLATE_STATE',\n",
        "    'TRAILER1_WIDTH', \n",
        "    'TRAILER2_WIDTH',\n",
        "    \n",
        "    # # hazzardous materials\n",
        "    'HAZMAT_PLACARDS_I', \n",
        "    'HAZMAT_NAME', \n",
        "    'HAZMAT_PRESENT_I', \n",
        "    'HAZMAT_REPORT_I', \n",
        "    'HAZMAT_REPORT_NO', \n",
        "    'HAZMAT_VIO_CAUSE_CRASH_I', \n",
        "    'HAZMAT_OUT_OF_SERVICE_I'\n",
        "\n",
        "    # # commercial vehicle\n",
        "    'COMMERCIAL_SRC', \n",
        "    'CARGO_BODY_TYPE', \n",
        "    'VEHICLE_CONFIG', \n",
        "    'GVWR', \n",
        "    'CARRIER_NAME', \n",
        "    'MCS_VIO_CAUSE_CRASH_I', \n",
        "    'MCS_REPORT_I', \n",
        "    'MCS_REPORT_NO', \n",
        "    'MCS_OUT_OF_SERVICE_I',\n",
        "]\n"
      ]
    },
    {
      "cell_type": "code",
      "execution_count": 11,
      "metadata": {},
      "outputs": [],
      "source": [
        "data = data.drop(columns=categorical_drop, errors='ignore')"
      ]
    },
    {
      "cell_type": "code",
      "execution_count": 12,
      "metadata": {},
      "outputs": [],
      "source": [
        "# select filtered categorical columns and save to csv\n",
        "categorical = data.select_dtypes(include='object').columns\n",
        "categorical_columns_df = pd.DataFrame(categorical, columns=['Categorical_Columns'])\n",
        "categorical_columns_df.to_csv('./checkpoint/filtered_categorical_columns.csv', index=False)"
      ]
    },
    {
      "cell_type": "markdown",
      "metadata": {},
      "source": [
        "### Encode Features\n",
        "- One hot encoding with dense matricies is too memory intensive.\n",
        "- Use a combination of frequency encoding and one-hot encoding with sparse matricies."
      ]
    },
    {
      "cell_type": "code",
      "execution_count": 13,
      "metadata": {},
      "outputs": [],
      "source": [
        "def limit_categories(column, threshold=100):\n",
        "    \"\"\"group rare categories into 'OTHER'.\"\"\"\n",
        "    freq = column.value_counts()\n",
        "    rare_categories = freq[freq < threshold].index\n",
        "    return column.apply(lambda x: 'OTHER' if x in rare_categories else x)"
      ]
    },
    {
      "cell_type": "code",
      "execution_count": 14,
      "metadata": {},
      "outputs": [],
      "source": [
        "# separate categorical columns by cardinality\n",
        "low_cardinality_cols = [col for col in data.select_dtypes(include='object').columns if data[col].nunique() <= 50]\n",
        "high_cardinality_cols = [col for col in data.select_dtypes(include='object').columns if data[col].nunique() > 50]"
      ]
    },
    {
      "cell_type": "code",
      "execution_count": 15,
      "metadata": {},
      "outputs": [],
      "source": [
        "# one-hot encode low-cardinality columns\n",
        "onehot_encoder = OneHotEncoder(sparse_output=False, drop='first')\n",
        "encoded_low_cardinality = onehot_encoder.fit_transform(data[low_cardinality_cols])"
      ]
    },
    {
      "cell_type": "code",
      "execution_count": 16,
      "metadata": {},
      "outputs": [],
      "source": [
        "# get feature names for low-cardinality columns\n",
        "encoded_low_cardinality_feature_names = onehot_encoder.get_feature_names_out(low_cardinality_cols)"
      ]
    },
    {
      "cell_type": "code",
      "execution_count": 17,
      "metadata": {},
      "outputs": [],
      "source": [
        "# frequency encode high-cardinality columns\n",
        "for col in high_cardinality_cols:\n",
        "    freq_map = data[col].value_counts(normalize=True)\n",
        "    data[col] = data[col].map(freq_map)"
      ]
    },
    {
      "cell_type": "code",
      "execution_count": 18,
      "metadata": {},
      "outputs": [],
      "source": [
        "# combine encoded low-cardinality data and frequency-encoded high-cardinality data\n",
        "# convert high-cardinality columns back to a DataFrame for alignment\n",
        "frequency_encoded_high_cardinality = data[high_cardinality_cols].to_numpy()\n",
        "combined_encoded_data = np.hstack([encoded_low_cardinality, frequency_encoded_high_cardinality])"
      ]
    },
    {
      "cell_type": "code",
      "execution_count": 19,
      "metadata": {},
      "outputs": [],
      "source": [
        "# generate feature names for combined data\n",
        "combined_feature_names = np.concatenate([encoded_low_cardinality_feature_names, high_cardinality_cols])\n",
        "\n",
        "# perform Chi-Square test\n",
        "label_encoder = LabelEncoder()\n",
        "chi_scores, p_values = chi2(combined_encoded_data, label_encoder.fit_transform(data['MOST_SEVERE_INJURY']))\n",
        "\n",
        "# create a DataFrame for the Chi-Square results\n",
        "chi2_results = pd.DataFrame({\n",
        "    'Feature': combined_feature_names,\n",
        "    'Chi2 Score': chi_scores,\n",
        "    'P-Value': p_values\n",
        "})\n",
        "\n",
        "# select relevant features with p-value < 0.05\n",
        "# selected_categorical_features = chi2_results[chi2_results['P-Value'] < 0.05]['Feature'].values"
      ]
    },
    {
      "cell_type": "code",
      "execution_count": 20,
      "metadata": {},
      "outputs": [],
      "source": [
        "# save the results to a CSV file\n",
        "chi2_results.to_csv('./checkpoint/chi2_results.csv', index=False)"
      ]
    },
    {
      "cell_type": "code",
      "execution_count": 21,
      "metadata": {},
      "outputs": [
        {
          "name": "stdout",
          "output_type": "stream",
          "text": [
            "Features to remove (15): {'CRASH_DATE', 'VEHICLE_TYPE_SNOWMOBILE', 'VEHICLE_DEFECT_CARGO', 'MANEUVER_DIVERGING', 'SAFETY_EQUIPMENT_SHOULD/LAP BELT USED IMPROPERLY', 'VEHICLE_DEFECT_SIGNALS', 'VEHICLE_USE_CAMPER/RV - SINGLE UNIT', 'UNIT_TYPE_EQUESTRIAN', 'VEHICLE_USE_HOUSE TRAILER', 'VEHICLE_DEFECT_ENGINE/MOTOR', 'VEHICLE_TYPE_FARM EQUIPMENT', 'DEVICE_CONDITION_WORN REFLECTIVE MATERIAL', 'VEHICLE_DEFECT_RESTRAINT SYSTEM', 'DRIVER_VISION_BLOWING MATERIALS', 'VEHICLE_DEFECT_TRAILER COUPLING'}\n"
          ]
        }
      ],
      "source": [
        "# threshold for p-value\n",
        "p_value_threshold = 0.05\n",
        "\n",
        "# filter out insignificant features\n",
        "insignificant_features = chi2_results[chi2_results['P-Value'] >= p_value_threshold]['Feature']\n",
        "\n",
        "# filter out low chi-square score features if needed\n",
        "low_chi2_threshold = 10\n",
        "low_chi2_features = chi2_results[chi2_results['Chi2 Score'] < low_chi2_threshold]['Feature']\n",
        "\n",
        "# combine features to drop\n",
        "features_to_drop = set(insignificant_features).union(set(low_chi2_features))\n",
        "\n",
        "# print features to drop\n",
        "print(f\"Features to remove ({len(features_to_drop)}): {features_to_drop}\")\n",
        "\n",
        "# Drop these features from your dataset\n",
        "data = data.drop(columns=features_to_drop, errors='ignore')\n"
      ]
    },
    {
      "cell_type": "code",
      "execution_count": 22,
      "metadata": {},
      "outputs": [],
      "source": [
        "# save selected features to csv\n",
        "final_categorical = data.select_dtypes(include='object').columns\n",
        "selected_categorical_features_df = pd.DataFrame(final_categorical, columns=['Selected_Categorical_Features'])\n",
        "selected_categorical_features_df.to_csv('./checkpoint/final_categorical_features.csv', index=False)"
      ]
    },
    {
      "cell_type": "markdown",
      "metadata": {},
      "source": [
        "### Feature Selection for Numerical Features\n",
        "- Perform feature selection using ANOVA test.\n",
        "- Drop features outside p-value threshold."
      ]
    },
    {
      "cell_type": "code",
      "execution_count": 23,
      "metadata": {},
      "outputs": [],
      "source": [
        "# identify numerical columns\n",
        "numerical_columns = data.select_dtypes(include=['float64', 'int64']).columns"
      ]
    },
    {
      "cell_type": "code",
      "execution_count": 24,
      "metadata": {},
      "outputs": [],
      "source": [
        "# save numerical columns to csv\n",
        "numerical_columns_df = pd.DataFrame(numerical_columns, columns=['Numerical_Columns'])\n",
        "numerical_columns_df.to_csv('./checkpoint/numerical_columns.csv', index=False)"
      ]
    },
    {
      "cell_type": "code",
      "execution_count": 25,
      "metadata": {},
      "outputs": [],
      "source": [
        "# collect numerical columns to drop\n",
        "numerical_drop = [\n",
        "    'STREET_NO',\n",
        "    'BEAT_OF_OCCURRENCE',\n",
        "    'CRASH_UNIT_ID',\n",
        "    'UNIT_NO',\n",
        "    'VEHICLE_ID_x',\n",
        "    'VEHICLE_ID_y'\n",
        "]"
      ]
    },
    {
      "cell_type": "code",
      "execution_count": 26,
      "metadata": {},
      "outputs": [],
      "source": [
        "# drop numerical columns\n",
        "data = data.drop(columns=numerical_drop, errors='ignore')"
      ]
    },
    {
      "cell_type": "code",
      "execution_count": 27,
      "metadata": {},
      "outputs": [
        {
          "name": "stderr",
          "output_type": "stream",
          "text": [
            "/Users/rob/micromamba/envs/learn-env/lib/python3.9/site-packages/sklearn/feature_selection/_univariate_selection.py:112: UserWarning: Features [8] are constant.\n",
            "  warnings.warn(\"Features %s are constant.\" % constant_features_idx, UserWarning)\n",
            "/Users/rob/micromamba/envs/learn-env/lib/python3.9/site-packages/sklearn/feature_selection/_univariate_selection.py:113: RuntimeWarning: invalid value encountered in divide\n",
            "  f = msb / msw\n"
          ]
        }
      ],
      "source": [
        "# perform ANOVA test\n",
        "f_scores, p_values = f_classif(data.select_dtypes(include=['float64', 'int64']), label_encoder.fit_transform(data['MOST_SEVERE_INJURY']))\n",
        "\n",
        "# create a DataFrame for ANOVA results\n",
        "anova_results = pd.DataFrame({\n",
        "    'Feature': data.select_dtypes(include=['float64', 'int64']).columns,\n",
        "    'F-Value': f_scores,\n",
        "    'P-Value': p_values\n",
        "})\n",
        "\n",
        "# filter significant features (p-value < 0.05)\n",
        "significant_features = anova_results[anova_results['P-Value'] < 0.05]"
      ]
    },
    {
      "cell_type": "code",
      "execution_count": 28,
      "metadata": {},
      "outputs": [],
      "source": [
        "# filter the dataset to keep only significant numerical features\n",
        "#numerical = data[significant_features['Feature'].values]\n",
        "data = data[significant_features['Feature'].values]"
      ]
    },
    {
      "cell_type": "markdown",
      "metadata": {},
      "source": [
        "## Correlation Analysis & Variance Inflation Factor\n",
        "- Check for correlation between features and target variable.\n",
        "- Drop features with low correlation with the target variable.\n",
        "- Drop features with high correlation with other features (r > 0.9).\n",
        "- Check for multicollinearity using the variance inflation factor (VIF)."
      ]
    },
    {
      "cell_type": "code",
      "execution_count": 29,
      "metadata": {},
      "outputs": [],
      "source": [
        "# def calculate_vif(data, features):\n",
        "#     vif_data = pd.DataFrame()\n",
        "#     vif_data[\"Feature\"] = features\n",
        "#     vif_data[\"VIF\"] = [variance_inflation_factor(data[features].values, i) for i in range(len(features))]\n",
        "#     return vif_data\n",
        "# \n",
        "# def reduce_multicollinearity(data, features, threshold=10.0):\n",
        "#     \"\"\"\n",
        "#     Iteratively removes features with high VIF.\n",
        "# \n",
        "#     Parameters:\n",
        "#         data (DataFrame): Data containing features.\n",
        "#         features (list): List of numerical features to assess.\n",
        "#         threshold (float): VIF threshold to determine high multicollinearity.\n",
        "# \n",
        "#     Returns:\n",
        "#         list: Features with VIF below the threshold.\n",
        "#     \"\"\"\n",
        "#     while True:\n",
        "#         vif_data = calculate_vif(data, features)\n",
        "#         max_vif = vif_data['VIF'].max()\n",
        "#         if max_vif > threshold:\n",
        "#             # Remove the feature with the highest VIF\n",
        "#             feature_to_remove = vif_data.loc[vif_data['VIF'].idxmax(), 'Feature']\n",
        "#             features.remove(feature_to_remove)\n",
        "#             print(f\"Removed '{feature_to_remove}' with VIF={max_vif:.2f}\")\n",
        "#         else:\n",
        "#             break\n",
        "#     return features\n",
        "# \n",
        "# reduced_features = reduce_multicollinearity(data_encoded, encoded_feature_names, threshold=10.0)\n",
        "# print(f\"Reduced features: {reduced_features}\")"
      ]
    },
    {
      "cell_type": "markdown",
      "metadata": {},
      "source": [
        "# Model"
      ]
    },
    {
      "cell_type": "markdown",
      "metadata": {},
      "source": [
        "### Encode Target Variable"
      ]
    },
    {
      "cell_type": "code",
      "execution_count": 30,
      "metadata": {},
      "outputs": [],
      "source": [
        "label_encoder = LabelEncoder()\n",
        "y_encoded = label_encoder.fit_transform(y)"
      ]
    },
    {
      "cell_type": "markdown",
      "metadata": {},
      "source": [
        "### Assign Feature List"
      ]
    },
    {
      "cell_type": "code",
      "execution_count": 31,
      "metadata": {},
      "outputs": [],
      "source": [
        "X = data"
      ]
    },
    {
      "cell_type": "markdown",
      "metadata": {},
      "source": [
        "### Test-Train Split"
      ]
    },
    {
      "cell_type": "code",
      "execution_count": 36,
      "metadata": {},
      "outputs": [],
      "source": [
        "X_train, X_test, y_train, y_test = train_test_split(\n",
        "    X, \n",
        "    y_encoded, \n",
        "    test_size=0.2, \n",
        "    random_state=42, \n",
        "    stratify=y_encoded\n",
        ")"
      ]
    },
    {
      "cell_type": "markdown",
      "metadata": {},
      "source": [
        "### Model Pipeline\n",
        "- Use a StandardScaler to scale the numerical features.\n",
        "- Use SMOTE to handle class imbalance.\n",
        "- Use Logistic Regression as the classification model.\n",
        "- Fit the model on the training set."
      ]
    },
    {
      "cell_type": "code",
      "execution_count": null,
      "metadata": {},
      "outputs": [
        {
          "data": {
            "text/html": [
              "<style>#sk-container-id-1 {\n",
              "  /* Definition of color scheme common for light and dark mode */\n",
              "  --sklearn-color-text: black;\n",
              "  --sklearn-color-line: gray;\n",
              "  /* Definition of color scheme for unfitted estimators */\n",
              "  --sklearn-color-unfitted-level-0: #fff5e6;\n",
              "  --sklearn-color-unfitted-level-1: #f6e4d2;\n",
              "  --sklearn-color-unfitted-level-2: #ffe0b3;\n",
              "  --sklearn-color-unfitted-level-3: chocolate;\n",
              "  /* Definition of color scheme for fitted estimators */\n",
              "  --sklearn-color-fitted-level-0: #f0f8ff;\n",
              "  --sklearn-color-fitted-level-1: #d4ebff;\n",
              "  --sklearn-color-fitted-level-2: #b3dbfd;\n",
              "  --sklearn-color-fitted-level-3: cornflowerblue;\n",
              "\n",
              "  /* Specific color for light theme */\n",
              "  --sklearn-color-text-on-default-background: var(--sg-text-color, var(--theme-code-foreground, var(--jp-content-font-color1, black)));\n",
              "  --sklearn-color-background: var(--sg-background-color, var(--theme-background, var(--jp-layout-color0, white)));\n",
              "  --sklearn-color-border-box: var(--sg-text-color, var(--theme-code-foreground, var(--jp-content-font-color1, black)));\n",
              "  --sklearn-color-icon: #696969;\n",
              "\n",
              "  @media (prefers-color-scheme: dark) {\n",
              "    /* Redefinition of color scheme for dark theme */\n",
              "    --sklearn-color-text-on-default-background: var(--sg-text-color, var(--theme-code-foreground, var(--jp-content-font-color1, white)));\n",
              "    --sklearn-color-background: var(--sg-background-color, var(--theme-background, var(--jp-layout-color0, #111)));\n",
              "    --sklearn-color-border-box: var(--sg-text-color, var(--theme-code-foreground, var(--jp-content-font-color1, white)));\n",
              "    --sklearn-color-icon: #878787;\n",
              "  }\n",
              "}\n",
              "\n",
              "#sk-container-id-1 {\n",
              "  color: var(--sklearn-color-text);\n",
              "}\n",
              "\n",
              "#sk-container-id-1 pre {\n",
              "  padding: 0;\n",
              "}\n",
              "\n",
              "#sk-container-id-1 input.sk-hidden--visually {\n",
              "  border: 0;\n",
              "  clip: rect(1px 1px 1px 1px);\n",
              "  clip: rect(1px, 1px, 1px, 1px);\n",
              "  height: 1px;\n",
              "  margin: -1px;\n",
              "  overflow: hidden;\n",
              "  padding: 0;\n",
              "  position: absolute;\n",
              "  width: 1px;\n",
              "}\n",
              "\n",
              "#sk-container-id-1 div.sk-dashed-wrapped {\n",
              "  border: 1px dashed var(--sklearn-color-line);\n",
              "  margin: 0 0.4em 0.5em 0.4em;\n",
              "  box-sizing: border-box;\n",
              "  padding-bottom: 0.4em;\n",
              "  background-color: var(--sklearn-color-background);\n",
              "}\n",
              "\n",
              "#sk-container-id-1 div.sk-container {\n",
              "  /* jupyter's `normalize.less` sets `[hidden] { display: none; }`\n",
              "     but bootstrap.min.css set `[hidden] { display: none !important; }`\n",
              "     so we also need the `!important` here to be able to override the\n",
              "     default hidden behavior on the sphinx rendered scikit-learn.org.\n",
              "     See: https://github.com/scikit-learn/scikit-learn/issues/21755 */\n",
              "  display: inline-block !important;\n",
              "  position: relative;\n",
              "}\n",
              "\n",
              "#sk-container-id-1 div.sk-text-repr-fallback {\n",
              "  display: none;\n",
              "}\n",
              "\n",
              "div.sk-parallel-item,\n",
              "div.sk-serial,\n",
              "div.sk-item {\n",
              "  /* draw centered vertical line to link estimators */\n",
              "  background-image: linear-gradient(var(--sklearn-color-text-on-default-background), var(--sklearn-color-text-on-default-background));\n",
              "  background-size: 2px 100%;\n",
              "  background-repeat: no-repeat;\n",
              "  background-position: center center;\n",
              "}\n",
              "\n",
              "/* Parallel-specific style estimator block */\n",
              "\n",
              "#sk-container-id-1 div.sk-parallel-item::after {\n",
              "  content: \"\";\n",
              "  width: 100%;\n",
              "  border-bottom: 2px solid var(--sklearn-color-text-on-default-background);\n",
              "  flex-grow: 1;\n",
              "}\n",
              "\n",
              "#sk-container-id-1 div.sk-parallel {\n",
              "  display: flex;\n",
              "  align-items: stretch;\n",
              "  justify-content: center;\n",
              "  background-color: var(--sklearn-color-background);\n",
              "  position: relative;\n",
              "}\n",
              "\n",
              "#sk-container-id-1 div.sk-parallel-item {\n",
              "  display: flex;\n",
              "  flex-direction: column;\n",
              "}\n",
              "\n",
              "#sk-container-id-1 div.sk-parallel-item:first-child::after {\n",
              "  align-self: flex-end;\n",
              "  width: 50%;\n",
              "}\n",
              "\n",
              "#sk-container-id-1 div.sk-parallel-item:last-child::after {\n",
              "  align-self: flex-start;\n",
              "  width: 50%;\n",
              "}\n",
              "\n",
              "#sk-container-id-1 div.sk-parallel-item:only-child::after {\n",
              "  width: 0;\n",
              "}\n",
              "\n",
              "/* Serial-specific style estimator block */\n",
              "\n",
              "#sk-container-id-1 div.sk-serial {\n",
              "  display: flex;\n",
              "  flex-direction: column;\n",
              "  align-items: center;\n",
              "  background-color: var(--sklearn-color-background);\n",
              "  padding-right: 1em;\n",
              "  padding-left: 1em;\n",
              "}\n",
              "\n",
              "\n",
              "/* Toggleable style: style used for estimator/Pipeline/ColumnTransformer box that is\n",
              "clickable and can be expanded/collapsed.\n",
              "- Pipeline and ColumnTransformer use this feature and define the default style\n",
              "- Estimators will overwrite some part of the style using the `sk-estimator` class\n",
              "*/\n",
              "\n",
              "/* Pipeline and ColumnTransformer style (default) */\n",
              "\n",
              "#sk-container-id-1 div.sk-toggleable {\n",
              "  /* Default theme specific background. It is overwritten whether we have a\n",
              "  specific estimator or a Pipeline/ColumnTransformer */\n",
              "  background-color: var(--sklearn-color-background);\n",
              "}\n",
              "\n",
              "/* Toggleable label */\n",
              "#sk-container-id-1 label.sk-toggleable__label {\n",
              "  cursor: pointer;\n",
              "  display: block;\n",
              "  width: 100%;\n",
              "  margin-bottom: 0;\n",
              "  padding: 0.5em;\n",
              "  box-sizing: border-box;\n",
              "  text-align: center;\n",
              "}\n",
              "\n",
              "#sk-container-id-1 label.sk-toggleable__label-arrow:before {\n",
              "  /* Arrow on the left of the label */\n",
              "  content: \"▸\";\n",
              "  float: left;\n",
              "  margin-right: 0.25em;\n",
              "  color: var(--sklearn-color-icon);\n",
              "}\n",
              "\n",
              "#sk-container-id-1 label.sk-toggleable__label-arrow:hover:before {\n",
              "  color: var(--sklearn-color-text);\n",
              "}\n",
              "\n",
              "/* Toggleable content - dropdown */\n",
              "\n",
              "#sk-container-id-1 div.sk-toggleable__content {\n",
              "  max-height: 0;\n",
              "  max-width: 0;\n",
              "  overflow: hidden;\n",
              "  text-align: left;\n",
              "  /* unfitted */\n",
              "  background-color: var(--sklearn-color-unfitted-level-0);\n",
              "}\n",
              "\n",
              "#sk-container-id-1 div.sk-toggleable__content.fitted {\n",
              "  /* fitted */\n",
              "  background-color: var(--sklearn-color-fitted-level-0);\n",
              "}\n",
              "\n",
              "#sk-container-id-1 div.sk-toggleable__content pre {\n",
              "  margin: 0.2em;\n",
              "  border-radius: 0.25em;\n",
              "  color: var(--sklearn-color-text);\n",
              "  /* unfitted */\n",
              "  background-color: var(--sklearn-color-unfitted-level-0);\n",
              "}\n",
              "\n",
              "#sk-container-id-1 div.sk-toggleable__content.fitted pre {\n",
              "  /* unfitted */\n",
              "  background-color: var(--sklearn-color-fitted-level-0);\n",
              "}\n",
              "\n",
              "#sk-container-id-1 input.sk-toggleable__control:checked~div.sk-toggleable__content {\n",
              "  /* Expand drop-down */\n",
              "  max-height: 200px;\n",
              "  max-width: 100%;\n",
              "  overflow: auto;\n",
              "}\n",
              "\n",
              "#sk-container-id-1 input.sk-toggleable__control:checked~label.sk-toggleable__label-arrow:before {\n",
              "  content: \"▾\";\n",
              "}\n",
              "\n",
              "/* Pipeline/ColumnTransformer-specific style */\n",
              "\n",
              "#sk-container-id-1 div.sk-label input.sk-toggleable__control:checked~label.sk-toggleable__label {\n",
              "  color: var(--sklearn-color-text);\n",
              "  background-color: var(--sklearn-color-unfitted-level-2);\n",
              "}\n",
              "\n",
              "#sk-container-id-1 div.sk-label.fitted input.sk-toggleable__control:checked~label.sk-toggleable__label {\n",
              "  background-color: var(--sklearn-color-fitted-level-2);\n",
              "}\n",
              "\n",
              "/* Estimator-specific style */\n",
              "\n",
              "/* Colorize estimator box */\n",
              "#sk-container-id-1 div.sk-estimator input.sk-toggleable__control:checked~label.sk-toggleable__label {\n",
              "  /* unfitted */\n",
              "  background-color: var(--sklearn-color-unfitted-level-2);\n",
              "}\n",
              "\n",
              "#sk-container-id-1 div.sk-estimator.fitted input.sk-toggleable__control:checked~label.sk-toggleable__label {\n",
              "  /* fitted */\n",
              "  background-color: var(--sklearn-color-fitted-level-2);\n",
              "}\n",
              "\n",
              "#sk-container-id-1 div.sk-label label.sk-toggleable__label,\n",
              "#sk-container-id-1 div.sk-label label {\n",
              "  /* The background is the default theme color */\n",
              "  color: var(--sklearn-color-text-on-default-background);\n",
              "}\n",
              "\n",
              "/* On hover, darken the color of the background */\n",
              "#sk-container-id-1 div.sk-label:hover label.sk-toggleable__label {\n",
              "  color: var(--sklearn-color-text);\n",
              "  background-color: var(--sklearn-color-unfitted-level-2);\n",
              "}\n",
              "\n",
              "/* Label box, darken color on hover, fitted */\n",
              "#sk-container-id-1 div.sk-label.fitted:hover label.sk-toggleable__label.fitted {\n",
              "  color: var(--sklearn-color-text);\n",
              "  background-color: var(--sklearn-color-fitted-level-2);\n",
              "}\n",
              "\n",
              "/* Estimator label */\n",
              "\n",
              "#sk-container-id-1 div.sk-label label {\n",
              "  font-family: monospace;\n",
              "  font-weight: bold;\n",
              "  display: inline-block;\n",
              "  line-height: 1.2em;\n",
              "}\n",
              "\n",
              "#sk-container-id-1 div.sk-label-container {\n",
              "  text-align: center;\n",
              "}\n",
              "\n",
              "/* Estimator-specific */\n",
              "#sk-container-id-1 div.sk-estimator {\n",
              "  font-family: monospace;\n",
              "  border: 1px dotted var(--sklearn-color-border-box);\n",
              "  border-radius: 0.25em;\n",
              "  box-sizing: border-box;\n",
              "  margin-bottom: 0.5em;\n",
              "  /* unfitted */\n",
              "  background-color: var(--sklearn-color-unfitted-level-0);\n",
              "}\n",
              "\n",
              "#sk-container-id-1 div.sk-estimator.fitted {\n",
              "  /* fitted */\n",
              "  background-color: var(--sklearn-color-fitted-level-0);\n",
              "}\n",
              "\n",
              "/* on hover */\n",
              "#sk-container-id-1 div.sk-estimator:hover {\n",
              "  /* unfitted */\n",
              "  background-color: var(--sklearn-color-unfitted-level-2);\n",
              "}\n",
              "\n",
              "#sk-container-id-1 div.sk-estimator.fitted:hover {\n",
              "  /* fitted */\n",
              "  background-color: var(--sklearn-color-fitted-level-2);\n",
              "}\n",
              "\n",
              "/* Specification for estimator info (e.g. \"i\" and \"?\") */\n",
              "\n",
              "/* Common style for \"i\" and \"?\" */\n",
              "\n",
              ".sk-estimator-doc-link,\n",
              "a:link.sk-estimator-doc-link,\n",
              "a:visited.sk-estimator-doc-link {\n",
              "  float: right;\n",
              "  font-size: smaller;\n",
              "  line-height: 1em;\n",
              "  font-family: monospace;\n",
              "  background-color: var(--sklearn-color-background);\n",
              "  border-radius: 1em;\n",
              "  height: 1em;\n",
              "  width: 1em;\n",
              "  text-decoration: none !important;\n",
              "  margin-left: 1ex;\n",
              "  /* unfitted */\n",
              "  border: var(--sklearn-color-unfitted-level-1) 1pt solid;\n",
              "  color: var(--sklearn-color-unfitted-level-1);\n",
              "}\n",
              "\n",
              ".sk-estimator-doc-link.fitted,\n",
              "a:link.sk-estimator-doc-link.fitted,\n",
              "a:visited.sk-estimator-doc-link.fitted {\n",
              "  /* fitted */\n",
              "  border: var(--sklearn-color-fitted-level-1) 1pt solid;\n",
              "  color: var(--sklearn-color-fitted-level-1);\n",
              "}\n",
              "\n",
              "/* On hover */\n",
              "div.sk-estimator:hover .sk-estimator-doc-link:hover,\n",
              ".sk-estimator-doc-link:hover,\n",
              "div.sk-label-container:hover .sk-estimator-doc-link:hover,\n",
              ".sk-estimator-doc-link:hover {\n",
              "  /* unfitted */\n",
              "  background-color: var(--sklearn-color-unfitted-level-3);\n",
              "  color: var(--sklearn-color-background);\n",
              "  text-decoration: none;\n",
              "}\n",
              "\n",
              "div.sk-estimator.fitted:hover .sk-estimator-doc-link.fitted:hover,\n",
              ".sk-estimator-doc-link.fitted:hover,\n",
              "div.sk-label-container:hover .sk-estimator-doc-link.fitted:hover,\n",
              ".sk-estimator-doc-link.fitted:hover {\n",
              "  /* fitted */\n",
              "  background-color: var(--sklearn-color-fitted-level-3);\n",
              "  color: var(--sklearn-color-background);\n",
              "  text-decoration: none;\n",
              "}\n",
              "\n",
              "/* Span, style for the box shown on hovering the info icon */\n",
              ".sk-estimator-doc-link span {\n",
              "  display: none;\n",
              "  z-index: 9999;\n",
              "  position: relative;\n",
              "  font-weight: normal;\n",
              "  right: .2ex;\n",
              "  padding: .5ex;\n",
              "  margin: .5ex;\n",
              "  width: min-content;\n",
              "  min-width: 20ex;\n",
              "  max-width: 50ex;\n",
              "  color: var(--sklearn-color-text);\n",
              "  box-shadow: 2pt 2pt 4pt #999;\n",
              "  /* unfitted */\n",
              "  background: var(--sklearn-color-unfitted-level-0);\n",
              "  border: .5pt solid var(--sklearn-color-unfitted-level-3);\n",
              "}\n",
              "\n",
              ".sk-estimator-doc-link.fitted span {\n",
              "  /* fitted */\n",
              "  background: var(--sklearn-color-fitted-level-0);\n",
              "  border: var(--sklearn-color-fitted-level-3);\n",
              "}\n",
              "\n",
              ".sk-estimator-doc-link:hover span {\n",
              "  display: block;\n",
              "}\n",
              "\n",
              "/* \"?\"-specific style due to the `<a>` HTML tag */\n",
              "\n",
              "#sk-container-id-1 a.estimator_doc_link {\n",
              "  float: right;\n",
              "  font-size: 1rem;\n",
              "  line-height: 1em;\n",
              "  font-family: monospace;\n",
              "  background-color: var(--sklearn-color-background);\n",
              "  border-radius: 1rem;\n",
              "  height: 1rem;\n",
              "  width: 1rem;\n",
              "  text-decoration: none;\n",
              "  /* unfitted */\n",
              "  color: var(--sklearn-color-unfitted-level-1);\n",
              "  border: var(--sklearn-color-unfitted-level-1) 1pt solid;\n",
              "}\n",
              "\n",
              "#sk-container-id-1 a.estimator_doc_link.fitted {\n",
              "  /* fitted */\n",
              "  border: var(--sklearn-color-fitted-level-1) 1pt solid;\n",
              "  color: var(--sklearn-color-fitted-level-1);\n",
              "}\n",
              "\n",
              "/* On hover */\n",
              "#sk-container-id-1 a.estimator_doc_link:hover {\n",
              "  /* unfitted */\n",
              "  background-color: var(--sklearn-color-unfitted-level-3);\n",
              "  color: var(--sklearn-color-background);\n",
              "  text-decoration: none;\n",
              "}\n",
              "\n",
              "#sk-container-id-1 a.estimator_doc_link.fitted:hover {\n",
              "  /* fitted */\n",
              "  background-color: var(--sklearn-color-fitted-level-3);\n",
              "}\n",
              "</style><div id=\"sk-container-id-1\" class=\"sk-top-container\"><div class=\"sk-text-repr-fallback\"><pre>Pipeline(steps=[(&#x27;preprocessor&#x27;,\n",
              "                 ColumnTransformer(transformers=[(&#x27;num&#x27;, StandardScaler(),\n",
              "                                                  Index([&#x27;POSTED_SPEED_LIMIT&#x27;, &#x27;NUM_UNITS&#x27;, &#x27;INJURIES_TOTAL&#x27;, &#x27;INJURIES_FATAL&#x27;,\n",
              "       &#x27;INJURIES_INCAPACITATING&#x27;, &#x27;INJURIES_NON_INCAPACITATING&#x27;,\n",
              "       &#x27;INJURIES_REPORTED_NOT_EVIDENT&#x27;, &#x27;INJURIES_NO_INDICATION&#x27;, &#x27;CRASH_HOUR&#x27;,\n",
              "       &#x27;CRASH_DAY_OF_WEEK&#x27;, &#x27;CRASH_MONTH&#x27;, &#x27;VEHICLE_YEAR&#x27;, &#x27;OCCUPANT_CNT&#x27;,\n",
              "       &#x27;AGE&#x27;, &#x27;DRIVERS_LICENSE_STATE&#x27;],\n",
              "      dtype=&#x27;object&#x27;)),\n",
              "                                                 (&#x27;cat&#x27;,\n",
              "                                                  OneHotEncoder(handle_unknown=&#x27;ignore&#x27;),\n",
              "                                                  Index([], dtype=&#x27;object&#x27;))])),\n",
              "                (&#x27;smote&#x27;, SMOTE(random_state=42)),\n",
              "                (&#x27;model&#x27;,\n",
              "                 LogisticRegression(C=0.0001, class_weight=&#x27;balanced&#x27;,\n",
              "                                    max_iter=800, random_state=42))])</pre><b>In a Jupyter environment, please rerun this cell to show the HTML representation or trust the notebook. <br />On GitHub, the HTML representation is unable to render, please try loading this page with nbviewer.org.</b></div><div class=\"sk-container\" hidden><div class=\"sk-item sk-dashed-wrapped\"><div class=\"sk-label-container\"><div class=\"sk-label fitted sk-toggleable\"><input class=\"sk-toggleable__control sk-hidden--visually\" id=\"sk-estimator-id-1\" type=\"checkbox\" ><label for=\"sk-estimator-id-1\" class=\"sk-toggleable__label fitted sk-toggleable__label-arrow fitted\">&nbsp;Pipeline<span class=\"sk-estimator-doc-link fitted\">i<span>Fitted</span></span></label><div class=\"sk-toggleable__content fitted\"><pre>Pipeline(steps=[(&#x27;preprocessor&#x27;,\n",
              "                 ColumnTransformer(transformers=[(&#x27;num&#x27;, StandardScaler(),\n",
              "                                                  Index([&#x27;POSTED_SPEED_LIMIT&#x27;, &#x27;NUM_UNITS&#x27;, &#x27;INJURIES_TOTAL&#x27;, &#x27;INJURIES_FATAL&#x27;,\n",
              "       &#x27;INJURIES_INCAPACITATING&#x27;, &#x27;INJURIES_NON_INCAPACITATING&#x27;,\n",
              "       &#x27;INJURIES_REPORTED_NOT_EVIDENT&#x27;, &#x27;INJURIES_NO_INDICATION&#x27;, &#x27;CRASH_HOUR&#x27;,\n",
              "       &#x27;CRASH_DAY_OF_WEEK&#x27;, &#x27;CRASH_MONTH&#x27;, &#x27;VEHICLE_YEAR&#x27;, &#x27;OCCUPANT_CNT&#x27;,\n",
              "       &#x27;AGE&#x27;, &#x27;DRIVERS_LICENSE_STATE&#x27;],\n",
              "      dtype=&#x27;object&#x27;)),\n",
              "                                                 (&#x27;cat&#x27;,\n",
              "                                                  OneHotEncoder(handle_unknown=&#x27;ignore&#x27;),\n",
              "                                                  Index([], dtype=&#x27;object&#x27;))])),\n",
              "                (&#x27;smote&#x27;, SMOTE(random_state=42)),\n",
              "                (&#x27;model&#x27;,\n",
              "                 LogisticRegression(C=0.0001, class_weight=&#x27;balanced&#x27;,\n",
              "                                    max_iter=800, random_state=42))])</pre></div> </div></div><div class=\"sk-serial\"><div class=\"sk-item sk-dashed-wrapped\"><div class=\"sk-label-container\"><div class=\"sk-label fitted sk-toggleable\"><input class=\"sk-toggleable__control sk-hidden--visually\" id=\"sk-estimator-id-2\" type=\"checkbox\" ><label for=\"sk-estimator-id-2\" class=\"sk-toggleable__label fitted sk-toggleable__label-arrow fitted\">&nbsp;preprocessor: ColumnTransformer<a class=\"sk-estimator-doc-link fitted\" rel=\"noreferrer\" target=\"_blank\" href=\"https://scikit-learn.org/1.4/modules/generated/sklearn.compose.ColumnTransformer.html\">?<span>Documentation for preprocessor: ColumnTransformer</span></a></label><div class=\"sk-toggleable__content fitted\"><pre>ColumnTransformer(transformers=[(&#x27;num&#x27;, StandardScaler(),\n",
              "                                 Index([&#x27;POSTED_SPEED_LIMIT&#x27;, &#x27;NUM_UNITS&#x27;, &#x27;INJURIES_TOTAL&#x27;, &#x27;INJURIES_FATAL&#x27;,\n",
              "       &#x27;INJURIES_INCAPACITATING&#x27;, &#x27;INJURIES_NON_INCAPACITATING&#x27;,\n",
              "       &#x27;INJURIES_REPORTED_NOT_EVIDENT&#x27;, &#x27;INJURIES_NO_INDICATION&#x27;, &#x27;CRASH_HOUR&#x27;,\n",
              "       &#x27;CRASH_DAY_OF_WEEK&#x27;, &#x27;CRASH_MONTH&#x27;, &#x27;VEHICLE_YEAR&#x27;, &#x27;OCCUPANT_CNT&#x27;,\n",
              "       &#x27;AGE&#x27;, &#x27;DRIVERS_LICENSE_STATE&#x27;],\n",
              "      dtype=&#x27;object&#x27;)),\n",
              "                                (&#x27;cat&#x27;, OneHotEncoder(handle_unknown=&#x27;ignore&#x27;),\n",
              "                                 Index([], dtype=&#x27;object&#x27;))])</pre></div> </div></div><div class=\"sk-parallel\"><div class=\"sk-parallel-item\"><div class=\"sk-item\"><div class=\"sk-label-container\"><div class=\"sk-label fitted sk-toggleable\"><input class=\"sk-toggleable__control sk-hidden--visually\" id=\"sk-estimator-id-3\" type=\"checkbox\" ><label for=\"sk-estimator-id-3\" class=\"sk-toggleable__label fitted sk-toggleable__label-arrow fitted\">num</label><div class=\"sk-toggleable__content fitted\"><pre>Index([&#x27;POSTED_SPEED_LIMIT&#x27;, &#x27;NUM_UNITS&#x27;, &#x27;INJURIES_TOTAL&#x27;, &#x27;INJURIES_FATAL&#x27;,\n",
              "       &#x27;INJURIES_INCAPACITATING&#x27;, &#x27;INJURIES_NON_INCAPACITATING&#x27;,\n",
              "       &#x27;INJURIES_REPORTED_NOT_EVIDENT&#x27;, &#x27;INJURIES_NO_INDICATION&#x27;, &#x27;CRASH_HOUR&#x27;,\n",
              "       &#x27;CRASH_DAY_OF_WEEK&#x27;, &#x27;CRASH_MONTH&#x27;, &#x27;VEHICLE_YEAR&#x27;, &#x27;OCCUPANT_CNT&#x27;,\n",
              "       &#x27;AGE&#x27;, &#x27;DRIVERS_LICENSE_STATE&#x27;],\n",
              "      dtype=&#x27;object&#x27;)</pre></div> </div></div><div class=\"sk-serial\"><div class=\"sk-item\"><div class=\"sk-estimator fitted sk-toggleable\"><input class=\"sk-toggleable__control sk-hidden--visually\" id=\"sk-estimator-id-4\" type=\"checkbox\" ><label for=\"sk-estimator-id-4\" class=\"sk-toggleable__label fitted sk-toggleable__label-arrow fitted\">&nbsp;StandardScaler<a class=\"sk-estimator-doc-link fitted\" rel=\"noreferrer\" target=\"_blank\" href=\"https://scikit-learn.org/1.4/modules/generated/sklearn.preprocessing.StandardScaler.html\">?<span>Documentation for StandardScaler</span></a></label><div class=\"sk-toggleable__content fitted\"><pre>StandardScaler()</pre></div> </div></div></div></div></div><div class=\"sk-parallel-item\"><div class=\"sk-item\"><div class=\"sk-label-container\"><div class=\"sk-label fitted sk-toggleable\"><input class=\"sk-toggleable__control sk-hidden--visually\" id=\"sk-estimator-id-5\" type=\"checkbox\" ><label for=\"sk-estimator-id-5\" class=\"sk-toggleable__label fitted sk-toggleable__label-arrow fitted\">cat</label><div class=\"sk-toggleable__content fitted\"><pre>Index([], dtype=&#x27;object&#x27;)</pre></div> </div></div><div class=\"sk-serial\"><div class=\"sk-item\"><div class=\"sk-estimator fitted sk-toggleable\"><input class=\"sk-toggleable__control sk-hidden--visually\" id=\"sk-estimator-id-6\" type=\"checkbox\" ><label for=\"sk-estimator-id-6\" class=\"sk-toggleable__label fitted sk-toggleable__label-arrow fitted\">&nbsp;OneHotEncoder<a class=\"sk-estimator-doc-link fitted\" rel=\"noreferrer\" target=\"_blank\" href=\"https://scikit-learn.org/1.4/modules/generated/sklearn.preprocessing.OneHotEncoder.html\">?<span>Documentation for OneHotEncoder</span></a></label><div class=\"sk-toggleable__content fitted\"><pre>OneHotEncoder(handle_unknown=&#x27;ignore&#x27;)</pre></div> </div></div></div></div></div></div></div><div class=\"sk-item\"><div class=\"sk-estimator fitted sk-toggleable\"><input class=\"sk-toggleable__control sk-hidden--visually\" id=\"sk-estimator-id-7\" type=\"checkbox\" ><label for=\"sk-estimator-id-7\" class=\"sk-toggleable__label fitted sk-toggleable__label-arrow fitted\">SMOTE</label><div class=\"sk-toggleable__content fitted\"><pre>SMOTE(random_state=42)</pre></div> </div></div><div class=\"sk-item\"><div class=\"sk-estimator fitted sk-toggleable\"><input class=\"sk-toggleable__control sk-hidden--visually\" id=\"sk-estimator-id-8\" type=\"checkbox\" ><label for=\"sk-estimator-id-8\" class=\"sk-toggleable__label fitted sk-toggleable__label-arrow fitted\">&nbsp;LogisticRegression<a class=\"sk-estimator-doc-link fitted\" rel=\"noreferrer\" target=\"_blank\" href=\"https://scikit-learn.org/1.4/modules/generated/sklearn.linear_model.LogisticRegression.html\">?<span>Documentation for LogisticRegression</span></a></label><div class=\"sk-toggleable__content fitted\"><pre>LogisticRegression(C=0.0001, class_weight=&#x27;balanced&#x27;, max_iter=800,\n",
              "                   random_state=42)</pre></div> </div></div></div></div></div></div>"
            ],
            "text/plain": [
              "Pipeline(steps=[('preprocessor',\n",
              "                 ColumnTransformer(transformers=[('num', StandardScaler(),\n",
              "                                                  Index(['POSTED_SPEED_LIMIT', 'NUM_UNITS', 'INJURIES_TOTAL', 'INJURIES_FATAL',\n",
              "       'INJURIES_INCAPACITATING', 'INJURIES_NON_INCAPACITATING',\n",
              "       'INJURIES_REPORTED_NOT_EVIDENT', 'INJURIES_NO_INDICATION', 'CRASH_HOUR',\n",
              "       'CRASH_DAY_OF_WEEK', 'CRASH_MONTH', 'VEHICLE_YEAR', 'OCCUPANT_CNT',\n",
              "       'AGE', 'DRIVERS_LICENSE_STATE'],\n",
              "      dtype='object')),\n",
              "                                                 ('cat',\n",
              "                                                  OneHotEncoder(handle_unknown='ignore'),\n",
              "                                                  Index([], dtype='object'))])),\n",
              "                ('smote', SMOTE(random_state=42)),\n",
              "                ('model',\n",
              "                 LogisticRegression(C=0.0001, class_weight='balanced',\n",
              "                                    max_iter=800, random_state=42))])"
            ]
          },
          "execution_count": 38,
          "metadata": {},
          "output_type": "execute_result"
        }
      ],
      "source": [
        "# Split data first\n",
        "from sklearn.compose import ColumnTransformer\n",
        "\n",
        "# identify numerical and categorical features\n",
        "numerical_features = X_train.select_dtypes(include=['int64', 'float64']).columns\n",
        "categorical_features = X_train.select_dtypes(include=['object']).columns\n",
        "\n",
        "# setup preprocessing steps\n",
        "numerical_transformer = StandardScaler()\n",
        "categorical_transformer = OneHotEncoder(handle_unknown='ignore')\n",
        "\n",
        "preprocessor = ColumnTransformer(\n",
        "    transformers=[\n",
        "        ('num', numerical_transformer, numerical_features),\n",
        "        ('cat', categorical_transformer, categorical_features)\n",
        "    ]\n",
        ")\n",
        "\n",
        "# define the model\n",
        "pipeline = Pipeline([\n",
        "    ('preprocessor', preprocessor),\n",
        "    # ('smote', SMOTE(random_state=42)),  \n",
        "    ('model', LogisticRegression(\n",
        "        random_state=42,\n",
        "        max_iter=800,\n",
        "        class_weight='balanced',\n",
        "        penalty='l2',\n",
        "        C=0.0001\n",
        "    ))\n",
        "])\n",
        "\n",
        "# fit only on training data\n",
        "pipeline.fit(X_train, y_train)"
      ]
    },
    {
      "cell_type": "code",
      "execution_count": 39,
      "metadata": {},
      "outputs": [],
      "source": [
        "y_pred = pipeline.predict(X_test)\n",
        "# for roc-auc score\n",
        "y_pred_proba = pipeline.predict_proba(X_test)[:, 1]"
      ]
    },
    {
      "cell_type": "markdown",
      "metadata": {},
      "source": [
        "### Confusion Matrix"
      ]
    },
    {
      "cell_type": "code",
      "execution_count": 40,
      "metadata": {},
      "outputs": [
        {
          "data": {
            "image/png": "[encoded data removed]",
            "text/plain": [
              "<Figure size 640x480 with 2 Axes>"
            ]
          },
          "metadata": {},
          "output_type": "display_data"
        }
      ],
      "source": [
        "# create and display the confusion matrix\n",
        "conf_matrix = confusion_matrix(y_test, y_pred)\n",
        "sns.heatmap(conf_matrix, annot=True, fmt='d', cmap='Blues')\n",
        "plt.xlabel('Predicted')\n",
        "plt.ylabel('Actual')\n",
        "plt.title('Confusion Matrix')\n",
        "plt.show()"
      ]
    },
    {
      "cell_type": "markdown",
      "metadata": {},
      "source": [
        "### Classification Report"
      ]
    },
    {
      "cell_type": "code",
      "execution_count": 41,
      "metadata": {},
      "outputs": [
        {
          "name": "stdout",
          "output_type": "stream",
          "text": [
            "                          precision    recall  f1-score   support\n",
            "\n",
            "                   FATAL       1.00      1.00      1.00      1457\n",
            "   INCAPACITATING INJURY       1.00      1.00      1.00     19585\n",
            " NO INDICATION OF INJURY       1.00      1.00      1.00    678662\n",
            "NONINCAPACITATING INJURY       1.00      1.00      1.00     89321\n",
            "   REPORTED, NOT EVIDENT       1.00      1.00      1.00     51294\n",
            "\n",
            "                accuracy                           1.00    840319\n",
            "               macro avg       1.00      1.00      1.00    840319\n",
            "            weighted avg       1.00      1.00      1.00    840319\n",
            "\n"
          ]
        }
      ],
      "source": [
        "# create and display the classification report\n",
        "class_report = classification_report(y_test, y_pred)\n",
        "print(class_report)"
      ]
    },
    {
      "cell_type": "markdown",
      "metadata": {},
      "source": [
        "### Cross-Validation"
      ]
    },
    {
      "cell_type": "code",
      "execution_count": null,
      "metadata": {},
      "outputs": [],
      "source": [
        "# cross validate the model\n",
        "cross_val_scores = cross_val_score(pipeline, X_train, y_train, cv=5, scoring='accuracy')\n",
        "print(f'Cross-validated scores: {cross_val_scores}')\n",
        "\n",
        "cross_val_scores"
      ]
    },
    {
      "cell_type": "code",
      "execution_count": 77,
      "metadata": {},
      "outputs": [
        {
          "data": {
            "text/plain": [
              "array([0.99424177, 0.99383567, 0.99370626, 0.99452142, 0.99290745])"
            ]
          },
          "execution_count": 77,
          "metadata": {},
          "output_type": "execute_result"
        }
      ],
      "source": [
        "cross_val_scores"
      ]
    }
  ],
  "metadata": {
    "kernelspec": {
      "display_name": "Python 3",
      "language": "python",
      "name": "python3"
    },
    "language_info": {
      "codemirror_mode": {
        "name": "ipython",
        "version": 3
      },
      "file_extension": ".py",
      "mimetype": "text/x-python",
      "name": "python",
      "nbconvert_exporter": "python",
      "pygments_lexer": "ipython3",
      "version": "3.9.18"
    }
  },
  "nbformat": 4,
  "nbformat_minor": 2
}
