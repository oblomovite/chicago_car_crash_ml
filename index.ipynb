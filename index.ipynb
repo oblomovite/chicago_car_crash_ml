{
  "cells": [
    {
      "cell_type": "markdown",
      "metadata": {},
      "source": [
        "# Business Understanding\n",
        "\n",
        "## Introduction\n",
        "Traffic accidents are a critical public safety issue, causing injuries, fatalities and significant economic losses. Stakeholders such as traffic authorities and emergency services often face challenges in predicting and mitigating injury severity in crashes. Understanding the factors influencing injury outcomes can inform better policies, resource allocation and public safety to reduce injury severity and save lives.\n",
        "\n",
        "## Use Cases\n",
        "- Use the model to identify high-risk conditions (eg. weather, lighting, etc.) and implement measures like improved signage, speed limits or road design to reduce injury severity in traffic accidents.\n",
        "- Predict the severity of injuries based on crash conditions, enabling emergency services to prioritize resources and respond more effectively to severe accidents. \n",
        "\n",
        "## Value Proposition\n",
        "This project aims to develop a classification model that predicts injury severity in traffic crashes. By identifying key high-risk contributing to severe injuries, stakeholders can implement proactive measures to:\n",
        "    - Reduce injury severity in traffic accidents through ad-hoc interventions\n",
        "    - Enhance decision-making and resource allocation for emergency services\n",
        "    - Improve public safety and save lives"
      ]
    },
    {
      "cell_type": "markdown",
      "metadata": {},
      "source": [
        "# Business Objective\n",
        "- The task is to predict the severity of injuries based on the given features:\n",
        "    - Environment: The environment in which the accident occurred.\n",
        "        - POSTED_SPEED_LIMIT: The posted speed limit.\n",
        "        - WEAHTER_CONDITION: The weather condition.\n",
        "        - LIGHTING_CONDITION: The lighting condition.\n",
        "        - ROADWAY_SURFACE_COND: The roadway surface condition.\n",
        "        - ROAD_DEFECT: Whether or not the road was defective.\n",
        "        - TRAFFICWAY_TYPE: The type of trafficway.\n",
        "        - TRAFFIC_CONTROL_DEVICE: The traffic control device present at the location of the accident.\n",
        "    - Crash Dynamics: The dynamics of the crash.\n",
        "        - FIRST_CRASH_TYPE: The type of the first crash.\n",
        "        - TRAFFICWAY_TYPE: The type of trafficway.\n",
        "        - ALIGNMENT: The alignment of the road.\n",
        "        - LANE_CNT: The number of through lanes in either direction.\n",
        "        - CRASH_HOUR: The hour of the crash.\n",
        "        - CRASH_DAY_OF_WEEK: The day of the week of the crash.\n",
        "        - CRASH_MONTH: The month of the crash.\n",
        "    - Human Factors:\n",
        "        - PRIM_CONTRIBUTORY_CAUSE: The primary contributory cause of the accident.\n",
        "        - SEC_CONTRIBUTORY_CAUSE: The secondary contributory cause of the accident.\n",
        "        - HIT_AND_RUN_I: Whether or not the crash involved a hit and run.\n",
        "        - NOT_RIGHT_OF_WAY_I: Whether or not the crash involved a violation of the right of way.\n",
        "        - WORK_ZONE_I: Whether or not the crash occurred in a work zone.\n",
        "    - Location Factors:\n",
        "        - LATITUDE: The latitude of the location of the crash.\n",
        "        - LONGITUDE: The longitude of the location of the crash.\n",
        "        - BEAT_OF_OCCURRENCE: The police beat of occurrence.\n",
        "    - Target:\n",
        "        - MOST_SEVERE_INJURY: Multi-class classification target (eg. FATAL, INCAPACITATING INJURY, NONINCAPACITATING INJURY, REPORTED, NO INJURY).\n"
      ]
    },
    {
      "cell_type": "markdown",
      "metadata": {},
      "source": [
        "# Data Understanding\n",
        "\n",
        "## Introduction\n",
        "The dataset contains information about traffic accidents in Chicago. Stakeholders need reliable data-driven insights to mitigate injury severity and optimize their strategies. The dataset in this project is directly related to the task of predicting injury severity in traffic accidents.\n",
        "\n",
        "## Data Description\n",
        "- The dataset includes detailed records of traffic accidents covering various features such as environment, crash dynamics, human factors, location factors and target variable MOST_SEVERE_INJURY.\n",
        "\n",
        "## Data Quality\n",
        "- The dataset is very large with over 400,000 records and 49 features, providing a rich source of information for analysis.\n",
        "- The dataset comes from the City of Chicago's [open data portal](https://data.cityofchicago.org/Transportation/Traffic-Crashes-Crashes/85ca-t3if) and is updated daily making it a reliable source of information for stakeholders.\n",
        "\n",
        "## Data Relevance\n",
        "- Use data on crash conditions (eg. weather) to identify high-risk conditions take proative measures.\n",
        "- Predict injury severity to prioritize emergency services and allocate resources more effectively. \n",
        "\n",
        "## Conclusion\n",
        "The dataset is robust, relevant and continually updated, making it an indispensable resource for the task of predicting injury severity in traffic accidents. "
      ]
    },
    {
      "cell_type": "markdown",
      "metadata": {},
      "source": [
        "# Data Preparation\n",
        "\n",
        "## Assembly\n",
        "- The source data is comprised of three CSV files:\n",
        "    - [Crash Data](https://data.cityofchicago.org/Transportation/Traffic-Crashes-Crashes/85ca-t3if/about_data)\n",
        "    - [Driver/Passenger Data](https://data.cityofchicago.org/Transportation/Traffic-Crashes-People/u6pd-qa9d/about_data)\n",
        "    - [Vehicles Data](https://data.cityofchicago.org/Transportation/Traffic-Crashes-Vehicles/68nd-jvt3/about_data)\n",
        "- The data will be assembled into a single dataset by joining the three tables on the common key CRASH_RECORD_ID.\n",
        "\n",
        "## Cleaning\n",
        "- Irrelevant columns that do not contribute to the task will be dropped.\n",
        "- Missing values that will be imputed or dropped.\n",
        "\n",
        "## Transformation\n",
        "- Categorical features will be encoded using one-hot encoding.\n",
        "- Numerical features will be scaled using standard scaling.\n",
        "\n",
        "## Splitting\n",
        "- The dataset will be split into training and testing sets using a standard 80/20 split."
      ]
    },
    {
      "cell_type": "markdown",
      "metadata": {},
      "source": [
        "## Import Libraries"
      ]
    },
    {
      "cell_type": "code",
      "execution_count": 6,
      "metadata": {},
      "outputs": [],
      "source": [
        "# import libraries\n",
        "import pandas as pd\n",
        "import numpy as np\n",
        "import matplotlib.pyplot as plt\n",
        "import seaborn as sns\n",
        "from sklearn.preprocessing import StandardScaler\n",
        "from sklearn.model_selection import train_test_split\n",
        "from sklearn.linear_model import LogisticRegression\n",
        "from sklearn.metrics import confusion_matrix, classification_report\n",
        "from sklearn.metrics import roc_curve, roc_auc_score\n",
        "from sklearn.metrics import precision_recall_curve, average_precision_score\n",
        "from sklearn.ensemble import RandomForestClassifier\n",
        "from sklearn.model_selection import GridSearchCV\n",
        "from sklearn.feature_selection import chi2\n",
        "from sklearn.preprocessing import OneHotEncoder, LabelEncoder\n",
        "from sklearn.feature_selection import f_classif\n",
        "from statsmodels.stats.outliers_influence import variance_inflation_factor\n",
        "from scipy.sparse import hstack\n",
        "from imblearn.over_sampling import SMOTE\n",
        "from imblearn.pipeline import Pipeline\n",
        "from sklearn.preprocessing import StandardScaler\n",
        "from sklearn.linear_model import LogisticRegression\n",
        "from sklearn.model_selection import cross_val_score\n",
        "from sklearn.compose import ColumnTransformer\n",
        "from sklearn.pipeline import FunctionTransformer\n",
        "from sklearn.base import BaseEstimator, TransformerMixin"
      ]
    },
    {
      "cell_type": "markdown",
      "metadata": {},
      "source": [
        "## Load Data"
      ]
    },
    {
      "cell_type": "code",
      "execution_count": 7,
      "metadata": {},
      "outputs": [
        {
          "name": "stderr",
          "output_type": "stream",
          "text": [
            "/var/folders/zp/h7t69w7n1jvg_7vxjttlw77c0000gn/T/ipykernel_8254/1440556926.py:3: DtypeWarning: Columns (18,20,22,23,39,40,41,42,43,47,48,49,50,51,52,53,54,55,56,57,58,59,60,68,69,70) have mixed types. Specify dtype option on import or set low_memory=False.\n",
            "  data_vehicles = pd.read_csv('./data/Traffic_Crashes_-_Vehicles_20250122.csv')\n",
            "/var/folders/zp/h7t69w7n1jvg_7vxjttlw77c0000gn/T/ipykernel_8254/1440556926.py:4: DtypeWarning: Columns (19,28) have mixed types. Specify dtype option on import or set low_memory=False.\n",
            "  data_people= pd.read_csv('./data/Traffic_Crashes_-_People_20250122.csv')\n"
          ]
        }
      ],
      "source": [
        "# load data\n",
        "data = pd.read_csv('./data/Traffic_Crashes_-_Crashes_20250122.csv')\n",
        "data_vehicles = pd.read_csv('./data/Traffic_Crashes_-_Vehicles_20250122.csv')\n",
        "data_people= pd.read_csv('./data/Traffic_Crashes_-_People_20250122.csv')"
      ]
    },
    {
      "cell_type": "code",
      "execution_count": 8,
      "metadata": {},
      "outputs": [],
      "source": [
        "# merge data\n",
        "data = data.merge(data_vehicles, on='CRASH_RECORD_ID')\n",
        "data = data.merge(data_people, on='CRASH_RECORD_ID')"
      ]
    },
    {
      "cell_type": "code",
      "execution_count": 9,
      "metadata": {},
      "outputs": [],
      "source": [
        "# assign target variable and drop it from the features\n",
        "target = data['MOST_SEVERE_INJURY']\n",
        "data.drop('MOST_SEVERE_INJURY', axis=1, inplace=True)\n",
        "\n",
        "# combine y and y_enc into a DataFrame\n",
        "label_encoder = LabelEncoder()\n",
        "target_enc = label_encoder.fit_transform(target)\n",
        "y_data = pd.DataFrame({'Original_Target': target, 'Encoded_Target': target_enc})\n",
        "\n",
        "# save to CSV\n",
        "y_data.to_csv('./checkpoint/target.csv', index=False)"
      ]
    },
    {
      "cell_type": "code",
      "execution_count": 10,
      "metadata": {},
      "outputs": [],
      "source": [
        "# Load the CSV file\n",
        "y_data = pd.read_csv('./checkpoint/target.csv')\n",
        "\n",
        "# Access the columns\n",
        "y = y_data['Original_Target']  # Original target values\n",
        "y_enc = y_data['Encoded_Target']  # Encoded target values\n",
        "\n",
        "# If needed, convert y_enc back to integers (it might be loaded as floats)\n",
        "y_enc = y_enc.astype(int)\n"
      ]
    },
    {
      "cell_type": "markdown",
      "metadata": {},
      "source": [
        "## Intial Clean Up\n",
        "- Drop features unlikely to influence injury severity.\n",
        "    - ids\n",
        "    - location\n",
        "    - date/time\n",
        "    - miscellaneous\n",
        "    - vehicle details\n",
        "    - hazmat details\n",
        "    - commerical vehicle details"
      ]
    },
    {
      "cell_type": "code",
      "execution_count": 11,
      "metadata": {},
      "outputs": [],
      "source": [
        "categorical_drop = [\n",
        "    # IDs\n",
        "    'CRASH_RECORD_ID', 'PERSON_ID', 'USDOT_NO', 'CCMC_NO', 'ILCC_NO', \n",
        "    'UN_NO', 'EMS_RUN_NO', 'IDOT_PERMIT_NO', 'UNIT_NO',\n",
        "\n",
        "    # Dates\n",
        "    'DATE_POLICE_NOTIFIED', 'CRASH_DATE_EST_I', 'CRASH_DATE_x', \n",
        "    'CRASH_DATE_y', 'CRASH_DATE',\n",
        "\n",
        "    # Geographic\n",
        "    'CITY', 'STATE', 'ZIPCODE', 'LATITUDE', 'LONGITUDE', 'LOCATION', \n",
        "    'STREET_NAME', 'STREET_DIRECTION', 'CARRIER_STATE', 'CARRIER_CITY', \n",
        "    'STREET_NO', 'BEAT_OF_OCCURRENCE', 'TRAVEL_DIRECTION',\n",
        "\n",
        "    # Miscellaneous\n",
        "    'TOWED_BY', 'TOWED_TO', 'AREA_00_I', 'AREA_01_I', 'AREA_02_I', \n",
        "    'AREA_03_I', 'AREA_04_I', 'AREA_05_I', 'AREA_06_I', 'AREA_07_I', \n",
        "    'AREA_08_I', 'AREA_09_I', 'AREA_10_I', 'AREA_11_I', 'AREA_12_I', \n",
        "    'AREA_99_I', 'WORK_ZONE_TYPE', 'PHOTOS_TAKEN_I', 'STATEMENTS_TAKEN_I', \n",
        "    'DOORING_I', 'WIDE_LOAD_I', 'REPORT_TYPE', 'CRASH_TYPE',\n",
        "\n",
        "    # Vehicle\n",
        "    'VEHICLE_ID', 'MAKE', 'MODEL', 'LIC_PLATE_STATE', \n",
        "    'TRAILER1_WIDTH', 'TRAILER2_WIDTH',\n",
        "\n",
        "    # Hazardous Materials\n",
        "    'HAZMAT_PLACARDS_I', 'HAZMAT_NAME', 'HAZMAT_PRESENT_I', \n",
        "    'HAZMAT_REPORT_I', 'HAZMAT_REPORT_NO', 'HAZMAT_VIO_CAUSE_CRASH_I', \n",
        "    'HAZMAT_OUT_OF_SERVICE_I',\n",
        "\n",
        "    # Commercial Vehicle\n",
        "    'COMMERCIAL_SRC', 'CARGO_BODY_TYPE', 'VEHICLE_CONFIG', 'GVWR', \n",
        "    'CARRIER_NAME', 'MCS_VIO_CAUSE_CRASH_I', 'MCS_REPORT_I', \n",
        "    'MCS_REPORT_NO', 'MCS_OUT_OF_SERVICE_I',\n",
        "\n",
        "    # High/Inf VIF\n",
        "    'INJURIES_TOTAL', 'INJURIES_FATAL', 'INJURIES_INCAPACITATING', \n",
        "    'INJURIES_NON_INCAPACITATING', 'INJURIES_REPORTED_NOT_EVIDENT', \n",
        "    'CRASH_UNIT_ID', 'VEHICLE_ID_x', 'VEHICLE_ID_y',\n",
        "\n",
        "    # Related to Target\n",
        "    'INJURY_CLASSIFICATION', 'INJURIES_NO_INDICATION', 'INJURIES_UNKNOWN',\n",
        "\n",
        "    # Potential Drops\n",
        "    'VEHICLE_USE', 'BAC_RESULT', 'DRIVERS_LICENSE_STATE', \n",
        "    # 'DRIVER_ACTION', \n",
        "    # 'PERSON_TYPE', \n",
        "    # 'DEVICE_CONDITION', 'TRAFFIC_CONTROL_DEVICE',\n",
        "\n",
        "    # Additional Drops\n",
        "    'CMRC_VEH_I', 'TRAVEL_DIRECTION', 'TRAILER1_LENGTH', 'TRAILER2_LENGTH', \n",
        "    'TOTAL_VEHICLE_LENGTH', 'AXLE_CNT', 'LOAD_TYPE', 'HAZMAT_CLASS', \n",
        "    'SEAT_NO', 'DRIVERS_LICENSE_CLASS', 'HOSPITAL', 'EMS_AGENCY', \n",
        "    'PEDPEDAL_ACTION', 'PEDPEDAL_VISIBILITY', 'PEDPEDAL_LOCATION', \n",
        "    'BAC_RESULT VALUE', 'CELL_PHONE_USE', 'CMV_ID',\n",
        "    'TOWED_I', 'FIRE_I'\n",
        "]\n",
        "\n",
        "# Drop columns\n",
        "data.drop(columns=categorical_drop, errors='ignore', inplace=True)"
      ]
    },
    {
      "cell_type": "markdown",
      "metadata": {},
      "source": [
        "## Data Preparation"
      ]
    },
    {
      "cell_type": "markdown",
      "metadata": {},
      "source": [
        "### Remove Features with High Rate of Missing Values\n",
        "- Drop features with high rate of missing values."
      ]
    },
    {
      "cell_type": "code",
      "execution_count": 12,
      "metadata": {},
      "outputs": [],
      "source": [
        "# calculate null percentages\n",
        "null_percentage = data.isnull().mean() * 100\n",
        "\n",
        "# drop columns with more than 50% missing values\n",
        "columns_to_drop = null_percentage[null_percentage > 50].index\n",
        "data = data.drop(columns=columns_to_drop)"
      ]
    },
    {
      "cell_type": "markdown",
      "metadata": {},
      "source": [
        "### Impute Missing Values\n",
        "- Median imputation for numerical features.\n",
        "- Mode imputation for categorical features."
      ]
    },
    {
      "cell_type": "code",
      "execution_count": 13,
      "metadata": {},
      "outputs": [],
      "source": [
        "# fill categorical columns with mode\n",
        "for column in data.select_dtypes(include='object').columns:\n",
        "    mode_value = data[column].mode()[0]\n",
        "    data[column] = data[column].fillna(mode_value)\n",
        "\n",
        "# fill numerical columns with median\n",
        "for column in data.select_dtypes(include=['float64', 'int64']).columns:\n",
        "    median_value = data[column].median()\n",
        "    data[column] = data[column].fillna(median_value)"
      ]
    },
    {
      "cell_type": "code",
      "execution_count": 14,
      "metadata": {},
      "outputs": [],
      "source": [
        "# checkpoint data\n",
        "data.to_csv('./checkpoint/data_pre_feat_eng.csv', index=False)"
      ]
    },
    {
      "cell_type": "code",
      "execution_count": 15,
      "metadata": {},
      "outputs": [],
      "source": [
        "# load data\n",
        "data = pd.read_csv('./checkpoint/data_pre_feat_eng.csv')"
      ]
    },
    {
      "cell_type": "markdown",
      "metadata": {},
      "source": [
        "### Grouping Rare Feature Values"
      ]
    },
    {
      "cell_type": "code",
      "execution_count": 16,
      "metadata": {},
      "outputs": [],
      "source": [
        "# simplify all categorical features by grouping rare categories into a single category by proportion\n",
        "def simplify_all_categorical_features(df, rare_threshold=0.01, new_category='OTHER'):\n",
        "    for column in df.select_dtypes(include='object').columns:\n",
        "        total = len(df)\n",
        "        value_counts = df[column].value_counts()\n",
        "        rare_categories = value_counts[value_counts / total < rare_threshold].index\n",
        "        df[column] = df[column].replace(rare_categories, new_category)\n",
        "    return df\n",
        "\n",
        "data = simplify_all_categorical_features(data, rare_threshold=0.01)"
      ]
    },
    {
      "cell_type": "markdown",
      "metadata": {},
      "source": [
        "### Feature Engineering"
      ]
    },
    {
      "cell_type": "code",
      "execution_count": 17,
      "metadata": {},
      "outputs": [],
      "source": [
        "# bin the age of driver\n",
        "data['AGE'] = pd.cut(\n",
        "    data['AGE'],\n",
        "    bins = [0, 18, 35, 50, 65, 100],\n",
        "    labels = ['Child', 'Young Adult', 'Adult', 'Middle-Aged', 'Senior']\n",
        ")\n",
        "\n",
        "# bin the number of occupants\n",
        "data['OCCUPANT_CNT'] = pd.cut(\n",
        "    data['OCCUPANT_CNT'],\n",
        "    bins=[-1, 1, 3, 5, 10, 100],\n",
        "    labels=['None', 'Single', 'Small Group', 'Medium Group', 'Large Group']\n",
        ")\n",
        "\n",
        "# bin the crash hour into 4 intervals\n",
        "data['CRASH_HOUR_BINNED'] = pd.cut(\n",
        "    data['CRASH_HOUR'],\n",
        "    bins=[-1, 6, 12, 18, 24],\n",
        "    labels=['Night', 'Morning', 'Afternoon', 'Evening']\n",
        ")\n",
        "\n",
        "# bin the crash day into 2 intervals\n",
        "# data['CRASH_DAY_BINARY'] = data['CRASH_DAY_OF_WEEK'].replace({\n",
        "#     6: 'Weekend', 7: 'Weekend',\n",
        "#     1: 'Weekday', 2: 'Weekday', 3: 'Weekday', 4: 'Weekday', 5: 'Weekday'\n",
        "# })\n",
        "# data = data.drop(columns='CRASH_DAY_OF_WEEK', errors='ignore')\n",
        "\n",
        "# bin the crash month into 4 intervals\n",
        "# data['CRASH_MONTH_SEASON'] = data['CRASH_MONTH'].replace({\n",
        "#     12: 'Winter', 1: 'Winter', 2: 'Winter',\n",
        "#     3: 'Spring', 4: 'Spring', 5: 'Spring',\n",
        "#     6: 'Summer', 7: 'Summer', 8: 'Summer',\n",
        "#     9: 'Fall', 10: 'Fall', 11: 'Fall'\n",
        "# })\n",
        "# data = data.drop(columns='CRASH_MONTH', errors='ignore')\n",
        "\n",
        "# simplify LIGHTING_CONDITION\n",
        "data['LIGHTING_CONDITION'] = data['LIGHTING_CONDITION'].replace({'DUSK': 'LOW LIGHT', 'DAWN': 'LOW LIGHT'})\n",
        "data['Daylight'] = data['LIGHTING_CONDITION'].apply(lambda x: 'Daylight' if x == 'DAYLIGHT' else 'Other')\n",
        "\n",
        "# simplify WEATHER_CONDITION\n",
        "data['Adverse_Weather'] = data['WEATHER_CONDITION'].apply(lambda x: 'Adverse' if x != 'CLEAR' else 'Clear')\n",
        "\n",
        "# simplify TRAFFICWAY_TYPE\n",
        "data['Divided_Trafficway'] = data['TRAFFICWAY_TYPE'].apply(\n",
        "    lambda x: 'Divided' if 'DIVIDED' in x.upper() else 'Not Divided'\n",
        ")\n",
        "\n",
        "# simplify ROADWAY_SURFACE_COND\n",
        "data['Non_Dry_Surface'] = data['ROADWAY_SURFACE_COND'].apply(lambda x: 'Non-Dry' if x != 'DRY' else 'Dry')\n",
        "\n",
        "# PRIM_CONTRIBUTORY_CAUSE / SEC_CONTRIBUTORY_CAUSE\n",
        "def group_contributory_causes(value):\n",
        "    if 'DISTRACTION' in value.upper():\n",
        "        return 'Distraction'\n",
        "    elif 'DRIVING' in value.upper() or 'DRIVER' in value.upper():\n",
        "        return 'Driver Error'\n",
        "    elif 'WEATHER' in value.upper():\n",
        "        return 'Weather'\n",
        "    elif 'SPEED' in value.upper():\n",
        "        return 'Speeding'\n",
        "    else:\n",
        "        return 'Other'\n",
        "\n",
        "data['PRIM_CAUSE_GROUP'] = data['PRIM_CONTRIBUTORY_CAUSE'].apply(group_contributory_causes)\n",
        "data['SEC_CAUSE_GROUP'] = data['SEC_CONTRIBUTORY_CAUSE'].apply(group_contributory_causes)\n",
        "\n",
        "# simplify contact point to FRONT, SIDE, REAR, OTHER\n",
        "data['Contact_Broad'] = data['FIRST_CONTACT_POINT'].apply(\n",
        "    lambda x: 'Front' if 'FRONT' in x.upper() else (\n",
        "        'Side' if 'SIDE' in x.upper() else (\n",
        "            'Rear' if 'REAR' in x.upper() else 'Other'\n",
        "        )\n",
        "    )\n",
        ")\n",
        "\n",
        "# bin speed limits into ranges\n",
        "data['SPEED_LIMIT_BINNED'] = pd.cut(\n",
        "    data['POSTED_SPEED_LIMIT'].astype(float, errors='ignore'),\n",
        "    bins=[-1, 10, 25, 40, 60, 100],\n",
        "    labels=['Very Low', 'Low', 'Medium', 'High', 'Very High']\n",
        ")\n",
        "\n",
        "# bin lane counts into ranges\n",
        "# data['LANE_CNT_BINNED'] = pd.cut(\n",
        "#     data['LANE_CNT'].astype(float, errors='ignore'),\n",
        "#     bins=[-1, 1, 3, 5, 8, 100],\n",
        "#     labels=['Single', 'Few', 'Moderate', 'Many', 'Very Many']\n",
        "# )\n",
        "\n",
        "# simplify vehicle types\n",
        "data['VEHICLE_TYPE'] = data['VEHICLE_TYPE'].replace({\n",
        "    'TRUCK - SINGLE UNIT': 'Truck',\n",
        "    'TRACTOR W/ SEMI-TRAILER': 'Truck',\n",
        "    'TRACTOR W/O SEMI-TRAILER': 'Truck',\n",
        "    'SINGLE UNIT TRUCK WITH TRAILER': 'Truck',\n",
        "    'OTHER VEHICLE WITH TRAILER': 'Truck',\n",
        "    'BUS OVER 15 PASS.': 'Bus',\n",
        "    'BUS UP TO 15 PASS.': 'Bus',\n",
        "    'MOTORCYCLE (OVER 150CC)': 'Motorcycle',\n",
        "    '3-WHEELED MOTORCYCLE (2 REAR WHEELS)': 'Motorcycle',\n",
        "    'AUTOCYCLE': 'Motorcycle',\n",
        "    'ALL-TERRAIN VEHICLE (ATV)': 'Motorcycle'\n",
        "})\n",
        "\n",
        "# group physical conditions\n",
        "data['PHYSICAL_CONDITION_GROUP'] = data['PHYSICAL_CONDITION'].replace({\n",
        "    'IMPAIRED - ALCOHOL': 'Impaired',\n",
        "    'IMPAIRED - DRUGS': 'Impaired',\n",
        "    'IMPAIRED - ALCOHOL AND DRUGS': 'Impaired',\n",
        "    'MEDICATED': 'Impaired',\n",
        "    'EMOTIONAL': 'Other',\n",
        "    'FATIGUED/ASLEEP': 'Other',\n",
        "    'ILLNESS/FAINTED': 'Other',\n",
        "    'HAD BEEN DRINKING': 'Impaired',\n",
        "    'NORMAL': 'Normal',\n",
        "    'UNKNOWN': 'Unknown'\n",
        "})"
      ]
    },
    {
      "cell_type": "code",
      "execution_count": 18,
      "metadata": {},
      "outputs": [],
      "source": [
        "# checkpoint\n",
        "data.to_csv('./checkpoint/data_post_feat_eng.csv', index=False)"
      ]
    },
    {
      "cell_type": "code",
      "execution_count": 19,
      "metadata": {},
      "outputs": [],
      "source": [
        "# load data\n",
        "data = pd.read_csv('./checkpoint/data_post_feat_eng.csv')"
      ]
    },
    {
      "cell_type": "markdown",
      "metadata": {},
      "source": [
        "## Data Preprocessing & Feature Selection"
      ]
    },
    {
      "cell_type": "markdown",
      "metadata": {},
      "source": [
        "### Significance Testing\n",
        "- Pearson correlation for numerical features.\n",
        "- Cramer's V for categorical features."
      ]
    },
    {
      "cell_type": "code",
      "execution_count": 23,
      "metadata": {},
      "outputs": [],
      "source": [
        "# Separate numeric and categorical features\n",
        "numeric_features = data.select_dtypes(include=['float64', 'int64']).columns.tolist()\n",
        "categorical_features = data.select_dtypes(include=['object', 'category']).columns.tolist()\n",
        "\n",
        "# Temporarily add the target variable back to the dataset for correlation\n",
        "data_with_target = data.copy()\n",
        "data_with_target['target'] = y_enc\n"
      ]
    },
    {
      "cell_type": "markdown",
      "metadata": {},
      "source": [
        "#### Pearson Correlation"
      ]
    },
    {
      "cell_type": "code",
      "execution_count": 24,
      "metadata": {},
      "outputs": [
        {
          "name": "stdout",
          "output_type": "stream",
          "text": [
            "Numeric Feature Correlations:\n",
            "target                1.000000\n",
            "NUM_UNITS             0.088050\n",
            "POSTED_SPEED_LIMIT    0.050437\n",
            "CRASH_MONTH           0.008904\n",
            "CRASH_HOUR            0.004627\n",
            "CRASH_DAY_OF_WEEK     0.003755\n",
            "VEHICLE_YEAR          0.002478\n",
            "Name: target, dtype: float64\n"
          ]
        }
      ],
      "source": [
        "\n",
        "# Compute correlation for numeric features\n",
        "numeric_features = data.select_dtypes(include=['float64', 'int64']).columns.tolist()\n",
        "numeric_corr = data_with_target[numeric_features + ['target']].corr(method='pearson')['target']\n",
        "\n",
        "# Display correlations sorted by absolute value\n",
        "print(\"Numeric Feature Correlations:\")\n",
        "print(numeric_corr.abs().sort_values(ascending=False))"
      ]
    },
    {
      "cell_type": "code",
      "execution_count": 26,
      "metadata": {},
      "outputs": [],
      "source": [
        "# checkpoint results\n",
        "numeric_corr.to_csv('./checkpoint/numeric_corr.csv', index=True)"
      ]
    },
    {
      "cell_type": "markdown",
      "metadata": {},
      "source": [
        "#### Spearman Correlation"
      ]
    },
    {
      "cell_type": "code",
      "execution_count": 28,
      "metadata": {},
      "outputs": [
        {
          "name": "stdout",
          "output_type": "stream",
          "text": [
            "Spearman Correlation with Target:\n",
            "NUM_UNITS             0.115515\n",
            "POSTED_SPEED_LIMIT    0.051704\n",
            "CRASH_MONTH           0.009250\n",
            "CRASH_HOUR            0.008639\n",
            "CRASH_DAY_OF_WEEK     0.004642\n",
            "VEHICLE_YEAR          0.003614\n",
            "Name: target, dtype: float64\n"
          ]
        }
      ],
      "source": [
        "# Add the encoded target variable to the dataset temporarily\n",
        "data_with_target = data.copy()\n",
        "data_with_target['target'] = y_enc\n",
        "\n",
        "# Compute Spearman correlation for numeric features\n",
        "spearman_corr = data_with_target[numeric_features + ['target']].corr(method='spearman')['target']\n",
        "\n",
        "# Drop the target itself from the results\n",
        "spearman_corr = spearman_corr.drop('target')\n",
        "\n",
        "# Display correlations sorted by absolute value\n",
        "print(\"Spearman Correlation with Target:\")\n",
        "print(spearman_corr.abs().sort_values(ascending=False))"
      ]
    },
    {
      "cell_type": "code",
      "execution_count": 29,
      "metadata": {},
      "outputs": [
        {
          "name": "stdout",
          "output_type": "stream",
          "text": [
            "Significant Features (Spearman Correlation):\n",
            "POSTED_SPEED_LIMIT: Correlation=0.0517, P-value=0.0000e+00\n",
            "NUM_UNITS: Correlation=0.1155, P-value=0.0000e+00\n",
            "CRASH_HOUR: Correlation=0.0086, P-value=3.6171e-70\n",
            "CRASH_DAY_OF_WEEK: Correlation=-0.0046, P-value=1.8159e-21\n",
            "CRASH_MONTH: Correlation=0.0093, P-value=3.5774e-80\n",
            "VEHICLE_YEAR: Correlation=-0.0036, P-value=1.2915e-13\n"
          ]
        }
      ],
      "source": [
        "from scipy.stats import spearmanr\n",
        "\n",
        "significant_features = {}\n",
        "for feature in numeric_features:\n",
        "    # Calculate Spearman correlation and p-value\n",
        "    corr, p_value = spearmanr(data_with_target[feature], y_enc)\n",
        "    significant_features[feature] = (corr, p_value)\n",
        "\n",
        "# Filter features with p-value < 0.05\n",
        "significant_features = {k: v for k, v in significant_features.items() if v[1] < 0.05}\n",
        "\n",
        "# Display significant features\n",
        "print(\"Significant Features (Spearman Correlation):\")\n",
        "for feature, (corr, p_value) in significant_features.items():\n",
        "    print(f\"{feature}: Correlation={corr:.4f}, P-value={p_value:.4e}\")\n"
      ]
    },
    {
      "cell_type": "markdown",
      "metadata": {},
      "source": [
        "#### Cramer's V"
      ]
    },
    {
      "cell_type": "code",
      "execution_count": 25,
      "metadata": {},
      "outputs": [
        {
          "name": "stdout",
          "output_type": "stream",
          "text": [
            "Categorical Feature Correlations:\n",
            "FIRST_CRASH_TYPE            0.202954\n",
            "PERSON_TYPE                 0.156591\n",
            "AIRBAG_DEPLOYED             0.148547\n",
            "UNIT_TYPE                   0.142992\n",
            "PRIM_CONTRIBUTORY_CAUSE     0.117017\n",
            "DAMAGE                      0.107906\n",
            "PHYSICAL_CONDITION          0.098106\n",
            "PHYSICAL_CONDITION_GROUP    0.098106\n",
            "FIRST_CONTACT_POINT         0.085634\n",
            "TRAFFICWAY_TYPE             0.082138\n",
            "SAFETY_EQUIPMENT            0.081642\n",
            "MANEUVER                    0.074277\n",
            "DRIVER_ACTION               0.071239\n",
            "DEVICE_CONDITION            0.068246\n",
            "EJECTION                    0.067111\n",
            "Contact_Broad               0.063022\n",
            "TRAFFIC_CONTROL_DEVICE      0.061908\n",
            "SEX                         0.060989\n",
            "SEC_CONTRIBUTORY_CAUSE      0.058395\n",
            "DRIVER_VISION               0.051833\n",
            "LIGHTING_CONDITION          0.045956\n",
            "Daylight                    0.045114\n",
            "AGE                         0.042273\n",
            "CRASH_HOUR_BINNED           0.042094\n",
            "PRIM_CAUSE_GROUP            0.039984\n",
            "ROADWAY_SURFACE_COND        0.037407\n",
            "SPEED_LIMIT_BINNED          0.037055\n",
            "VEHICLE_TYPE                0.035278\n",
            "WEATHER_CONDITION           0.035042\n",
            "SEC_CAUSE_GROUP             0.034901\n",
            "Non_Dry_Surface             0.027099\n",
            "ROAD_DEFECT                 0.025452\n",
            "OCCUPANT_CNT                0.022182\n",
            "Adverse_Weather             0.019038\n",
            "Divided_Trafficway          0.016933\n",
            "ALIGNMENT                   0.016066\n",
            "VEHICLE_DEFECT              0.009155\n",
            "dtype: float64\n"
          ]
        }
      ],
      "source": [
        "from scipy.stats import chi2_contingency\n",
        "\n",
        "\n",
        "data_with_target = data.copy()\n",
        "# note the y variable is unencoded\n",
        "data_with_target['target'] = y\n",
        "\n",
        "# calculate Cramers V for categorical features\n",
        "def cramers_v(x, y):\n",
        "    confusion_matrix = pd.crosstab(x, y)\n",
        "    chi2 = chi2_contingency(confusion_matrix)[0]\n",
        "    n = confusion_matrix.sum().sum()\n",
        "    phi2 = chi2 / n\n",
        "    r, k = confusion_matrix.shape\n",
        "    phi2corr = max(0, phi2 - ((k - 1) * (r - 1)) / (n - 1))\n",
        "    rcorr = r - ((r - 1) ** 2) / (n - 1)\n",
        "    kcorr = k - ((k - 1) ** 2) / (n - 1)\n",
        "    return np.sqrt(phi2corr / min((kcorr - 1), (rcorr - 1)))\n",
        "\n",
        "# Compute correlation for categorical features\n",
        "categorical_corr = pd.Series(index=categorical_features, dtype='float64')\n",
        "for feature in categorical_features:\n",
        "    categorical_corr[feature] = cramers_v(data_with_target[feature], data_with_target['target'])\n",
        "    \n",
        "# Display correlations sorted by absolute value\n",
        "print(\"Categorical Feature Correlations:\")\n",
        "print(categorical_corr.abs().sort_values(ascending=False))"
      ]
    },
    {
      "cell_type": "code",
      "execution_count": 27,
      "metadata": {},
      "outputs": [],
      "source": [
        "# checkpoint results\n",
        "categorical_corr.to_csv('./checkpoint/categorical_corr.csv', index=True)"
      ]
    },
    {
      "cell_type": "markdown",
      "metadata": {},
      "source": [
        "### Significance Testing\n",
        "- Perform chi-squared test for categorical features.\n",
        "- Perform ANOVA test for numerical features.\n",
        "- Perform Variance Inflation Factor (VIF) to check for multicollinearity."
      ]
    },
    {
      "cell_type": "markdown",
      "metadata": {},
      "source": [
        "### Chi-Squared Test\n",
        "- Test the independence between categorical features and the target variable.\n",
        "- Drop features with p-value > 0.05."
      ]
    },
    {
      "cell_type": "code",
      "execution_count": 293,
      "metadata": {},
      "outputs": [],
      "source": [
        "# Chi-Square transformer\n",
        "class ChiSquareTransformer(BaseEstimator, TransformerMixin):\n",
        "    def __init__(self, threshold=0.05):\n",
        "        self.threshold = threshold\n",
        "        self.selected_indices = None\n",
        "        self.encoder = OneHotEncoder(handle_unknown='ignore', sparse_output=True)\n",
        "\n",
        "    def fit(self, X, y):\n",
        "        X_encoded = self.encoder.fit_transform(X)\n",
        "        chi2_scores, p_values = chi2(X_encoded, y)\n",
        "        self.selected_indices = np.where(p_values < self.threshold)[0]\n",
        "        return self\n",
        "\n",
        "    def transform(self, X):\n",
        "        X_encoded = self.encoder.transform(X)\n",
        "        return X_encoded[:, self.selected_indices]\n"
      ]
    },
    {
      "cell_type": "markdown",
      "metadata": {},
      "source": [
        "### ANOVA Test\n",
        "- Test the significance of numerical features on the target variable.\n",
        "- Drop features with p-value > 0.05."
      ]
    },
    {
      "cell_type": "code",
      "execution_count": 294,
      "metadata": {},
      "outputs": [],
      "source": [
        "# ANOVA transformer\n",
        "class ANOVATransformer(BaseEstimator, TransformerMixin):\n",
        "    def __init__(self, threshold=0.05):\n",
        "        self.threshold = threshold\n",
        "        self.selected_indices = None\n",
        "        self.scaler = StandardScaler()\n",
        "\n",
        "    def fit(self, X, y):\n",
        "        X_scaled = self.scaler.fit_transform(X)\n",
        "        f_scores, p_values = f_classif(X_scaled, y)\n",
        "        self.selected_indices = np.where(p_values < self.threshold)[0]\n",
        "        return self\n",
        "\n",
        "    def transform(self, X):\n",
        "        X_scaled = self.scaler.transform(X)\n",
        "        return X_scaled[:, self.selected_indices]"
      ]
    },
    {
      "cell_type": "markdown",
      "metadata": {},
      "source": [
        "### Variance Inflation Factor (VIF)"
      ]
    },
    {
      "cell_type": "code",
      "execution_count": 295,
      "metadata": {},
      "outputs": [],
      "source": [
        "# custom VIF transformer\n",
        "class VIFTransformer(BaseEstimator, TransformerMixin):\n",
        "    def __init__(self, threshold=10.0):\n",
        "        self.threshold = threshold\n",
        "        self.features_to_keep = None\n",
        "\n",
        "    def fit(self, X, y=None):\n",
        "        X = pd.DataFrame(X)\n",
        "        self.features_to_keep = X.columns.tolist()\n",
        "\n",
        "        while True:\n",
        "            vif_data = pd.DataFrame({\n",
        "                'Feature': self.features_to_keep,\n",
        "                'VIF': [variance_inflation_factor(X[self.features_to_keep].values, i) for i in range(len(self.features_to_keep))]\n",
        "            })\n",
        "            max_vif = vif_data['VIF'].max()\n",
        "            if max_vif > self.threshold:\n",
        "                feature_to_remove = vif_data.loc[vif_data[\"VIF\"].idxmax(), \"Feature\"]\n",
        "                self.features_to_keep.remove(feature_to_remove)\n",
        "            else:\n",
        "                break\n",
        "        return self\n",
        "    \n",
        "    def transform(self, X):\n",
        "        return X[self.features_to_keep]\n",
        "\n",
        "    def fit_transform(self, X, y):\n",
        "        self.fit(X, y)\n",
        "        return self.transform()\n",
        "\n",
        "# preprocessor for all columns using VIF\n",
        "vif_transformer = ColumnTransformer(\n",
        "    transformers=[\n",
        "        ('vif', VIFTransformer()),\n",
        "    ],\n",
        "    remainder='passthrough'\n",
        ")"
      ]
    },
    {
      "cell_type": "code",
      "execution_count": 296,
      "metadata": {},
      "outputs": [],
      "source": [
        "# identify and filter high VIF features\n",
        "def calculate_vif(X, threshold=10):\n",
        "    vif_data = pd.DataFrame()\n",
        "    vif_data[\"Feature\"] = X.columns\n",
        "    vif_data[\"VIF\"] = [\n",
        "        variance_inflation_factor(X.values, i) for i in range(X.shape[1])\n",
        "    ]\n",
        "    high_vif_features = vif_data[vif_data[\"VIF\"] > threshold][\"Feature\"].tolist()\n",
        "    return high_vif_features\n",
        "\n",
        "# automatically drop high VIF columns\n",
        "high_vif_features = calculate_vif(data.select_dtypes(include=['float64', 'int64']))\n",
        "data = data.drop(columns=high_vif_features, errors=\"ignore\")"
      ]
    },
    {
      "cell_type": "code",
      "execution_count": 297,
      "metadata": {},
      "outputs": [],
      "source": [
        "# checkpoint \n",
        "data.to_csv('./checkpoint/data_pre_model.csv', index=False)"
      ]
    },
    {
      "cell_type": "code",
      "execution_count": 298,
      "metadata": {},
      "outputs": [],
      "source": [
        "# load data\n",
        "data = pd.read_csv('./checkpoint/data_pre_model.csv')"
      ]
    },
    {
      "cell_type": "markdown",
      "metadata": {},
      "source": [
        "# Model"
      ]
    },
    {
      "cell_type": "markdown",
      "metadata": {},
      "source": [
        "### Model Pipeline\n",
        "- Use a StandardScaler to scale the numerical features.\n",
        "- Use SMOTE to handle class imbalance.\n",
        "- Use Logistic Regression as the classification model.\n",
        "- Fit the model on the training set."
      ]
    },
    {
      "cell_type": "code",
      "execution_count": 209,
      "metadata": {},
      "outputs": [
        {
          "ename": "KeyboardInterrupt",
          "evalue": "",
          "output_type": "error",
          "traceback": [
            "\u001b[0;31m---------------------------------------------------------------------------\u001b[0m",
            "\u001b[0;31mKeyboardInterrupt\u001b[0m                         Traceback (most recent call last)",
            "Cell \u001b[0;32mIn[209], line 54\u001b[0m\n\u001b[1;32m     38\u001b[0m pipeline \u001b[38;5;241m=\u001b[39m Pipeline([\n\u001b[1;32m     39\u001b[0m     (\u001b[38;5;124m'\u001b[39m\u001b[38;5;124mpreprocessor\u001b[39m\u001b[38;5;124m'\u001b[39m, preprocessor),\n\u001b[1;32m     40\u001b[0m \n\u001b[0;32m   (...)\u001b[0m\n\u001b[1;32m     50\u001b[0m     ))\n\u001b[1;32m     51\u001b[0m ])\n\u001b[1;32m     53\u001b[0m \u001b[38;5;66;03m# fit pipeline\u001b[39;00m\n\u001b[0;32m---> 54\u001b[0m \u001b[43mpipeline\u001b[49m\u001b[38;5;241;43m.\u001b[39;49m\u001b[43mfit\u001b[49m\u001b[43m(\u001b[49m\u001b[43mX_train\u001b[49m\u001b[43m,\u001b[49m\u001b[43m \u001b[49m\u001b[43my_train\u001b[49m\u001b[43m)\u001b[49m\n\u001b[1;32m     56\u001b[0m \u001b[38;5;66;03m# predict\u001b[39;00m\n\u001b[1;32m     57\u001b[0m y_pred \u001b[38;5;241m=\u001b[39m pipeline\u001b[38;5;241m.\u001b[39mpredict(X_test)\n",
            "File \u001b[0;32m~/micromamba/envs/learn-env/lib/python3.9/site-packages/sklearn/base.py:1351\u001b[0m, in \u001b[0;36m_fit_context.<locals>.decorator.<locals>.wrapper\u001b[0;34m(estimator, *args, **kwargs)\u001b[0m\n\u001b[1;32m   1344\u001b[0m     estimator\u001b[38;5;241m.\u001b[39m_validate_params()\n\u001b[1;32m   1346\u001b[0m \u001b[38;5;28;01mwith\u001b[39;00m config_context(\n\u001b[1;32m   1347\u001b[0m     skip_parameter_validation\u001b[38;5;241m=\u001b[39m(\n\u001b[1;32m   1348\u001b[0m         prefer_skip_nested_validation \u001b[38;5;129;01mor\u001b[39;00m global_skip_validation\n\u001b[1;32m   1349\u001b[0m     )\n\u001b[1;32m   1350\u001b[0m ):\n\u001b[0;32m-> 1351\u001b[0m     \u001b[38;5;28;01mreturn\u001b[39;00m \u001b[43mfit_method\u001b[49m\u001b[43m(\u001b[49m\u001b[43mestimator\u001b[49m\u001b[43m,\u001b[49m\u001b[43m \u001b[49m\u001b[38;5;241;43m*\u001b[39;49m\u001b[43margs\u001b[49m\u001b[43m,\u001b[49m\u001b[43m \u001b[49m\u001b[38;5;241;43m*\u001b[39;49m\u001b[38;5;241;43m*\u001b[39;49m\u001b[43mkwargs\u001b[49m\u001b[43m)\u001b[49m\n",
            "File \u001b[0;32m~/micromamba/envs/learn-env/lib/python3.9/site-packages/imblearn/pipeline.py:329\u001b[0m, in \u001b[0;36mPipeline.fit\u001b[0;34m(self, X, y, **params)\u001b[0m\n\u001b[1;32m    285\u001b[0m \u001b[38;5;250m\u001b[39m\u001b[38;5;124;03m\"\"\"Fit the model.\u001b[39;00m\n\u001b[1;32m    286\u001b[0m \n\u001b[1;32m    287\u001b[0m \u001b[38;5;124;03mFit all the transforms/samplers one after the other and\u001b[39;00m\n\u001b[0;32m   (...)\u001b[0m\n\u001b[1;32m    326\u001b[0m \u001b[38;5;124;03m    This estimator.\u001b[39;00m\n\u001b[1;32m    327\u001b[0m \u001b[38;5;124;03m\"\"\"\u001b[39;00m\n\u001b[1;32m    328\u001b[0m routed_params \u001b[38;5;241m=\u001b[39m \u001b[38;5;28mself\u001b[39m\u001b[38;5;241m.\u001b[39m_check_method_params(method\u001b[38;5;241m=\u001b[39m\u001b[38;5;124m\"\u001b[39m\u001b[38;5;124mfit\u001b[39m\u001b[38;5;124m\"\u001b[39m, props\u001b[38;5;241m=\u001b[39mparams)\n\u001b[0;32m--> 329\u001b[0m Xt, yt \u001b[38;5;241m=\u001b[39m \u001b[38;5;28;43mself\u001b[39;49m\u001b[38;5;241;43m.\u001b[39;49m\u001b[43m_fit\u001b[49m\u001b[43m(\u001b[49m\u001b[43mX\u001b[49m\u001b[43m,\u001b[49m\u001b[43m \u001b[49m\u001b[43my\u001b[49m\u001b[43m,\u001b[49m\u001b[43m \u001b[49m\u001b[43mrouted_params\u001b[49m\u001b[43m)\u001b[49m\n\u001b[1;32m    330\u001b[0m \u001b[38;5;28;01mwith\u001b[39;00m _print_elapsed_time(\u001b[38;5;124m\"\u001b[39m\u001b[38;5;124mPipeline\u001b[39m\u001b[38;5;124m\"\u001b[39m, \u001b[38;5;28mself\u001b[39m\u001b[38;5;241m.\u001b[39m_log_message(\u001b[38;5;28mlen\u001b[39m(\u001b[38;5;28mself\u001b[39m\u001b[38;5;241m.\u001b[39msteps) \u001b[38;5;241m-\u001b[39m \u001b[38;5;241m1\u001b[39m)):\n\u001b[1;32m    331\u001b[0m     \u001b[38;5;28;01mif\u001b[39;00m \u001b[38;5;28mself\u001b[39m\u001b[38;5;241m.\u001b[39m_final_estimator \u001b[38;5;241m!=\u001b[39m \u001b[38;5;124m\"\u001b[39m\u001b[38;5;124mpassthrough\u001b[39m\u001b[38;5;124m\"\u001b[39m:\n",
            "File \u001b[0;32m~/micromamba/envs/learn-env/lib/python3.9/site-packages/imblearn/pipeline.py:255\u001b[0m, in \u001b[0;36mPipeline._fit\u001b[0;34m(self, X, y, routed_params)\u001b[0m\n\u001b[1;32m    251\u001b[0m \u001b[38;5;66;03m# Fit or load from cache the current transformer\u001b[39;00m\n\u001b[1;32m    252\u001b[0m \u001b[38;5;28;01mif\u001b[39;00m \u001b[38;5;28mhasattr\u001b[39m(cloned_transformer, \u001b[38;5;124m\"\u001b[39m\u001b[38;5;124mtransform\u001b[39m\u001b[38;5;124m\"\u001b[39m) \u001b[38;5;129;01mor\u001b[39;00m \u001b[38;5;28mhasattr\u001b[39m(\n\u001b[1;32m    253\u001b[0m     cloned_transformer, \u001b[38;5;124m\"\u001b[39m\u001b[38;5;124mfit_transform\u001b[39m\u001b[38;5;124m\"\u001b[39m\n\u001b[1;32m    254\u001b[0m ):\n\u001b[0;32m--> 255\u001b[0m     X, fitted_transformer \u001b[38;5;241m=\u001b[39m \u001b[43mfit_transform_one_cached\u001b[49m\u001b[43m(\u001b[49m\n\u001b[1;32m    256\u001b[0m \u001b[43m        \u001b[49m\u001b[43mcloned_transformer\u001b[49m\u001b[43m,\u001b[49m\n\u001b[1;32m    257\u001b[0m \u001b[43m        \u001b[49m\u001b[43mX\u001b[49m\u001b[43m,\u001b[49m\n\u001b[1;32m    258\u001b[0m \u001b[43m        \u001b[49m\u001b[43my\u001b[49m\u001b[43m,\u001b[49m\n\u001b[1;32m    259\u001b[0m \u001b[43m        \u001b[49m\u001b[38;5;28;43;01mNone\u001b[39;49;00m\u001b[43m,\u001b[49m\n\u001b[1;32m    260\u001b[0m \u001b[43m        \u001b[49m\u001b[43mmessage_clsname\u001b[49m\u001b[38;5;241;43m=\u001b[39;49m\u001b[38;5;124;43m\"\u001b[39;49m\u001b[38;5;124;43mPipeline\u001b[39;49m\u001b[38;5;124;43m\"\u001b[39;49m\u001b[43m,\u001b[49m\n\u001b[1;32m    261\u001b[0m \u001b[43m        \u001b[49m\u001b[43mmessage\u001b[49m\u001b[38;5;241;43m=\u001b[39;49m\u001b[38;5;28;43mself\u001b[39;49m\u001b[38;5;241;43m.\u001b[39;49m\u001b[43m_log_message\u001b[49m\u001b[43m(\u001b[49m\u001b[43mstep_idx\u001b[49m\u001b[43m)\u001b[49m\u001b[43m,\u001b[49m\n\u001b[1;32m    262\u001b[0m \u001b[43m        \u001b[49m\u001b[43mparams\u001b[49m\u001b[38;5;241;43m=\u001b[39;49m\u001b[43mrouted_params\u001b[49m\u001b[43m[\u001b[49m\u001b[43mname\u001b[49m\u001b[43m]\u001b[49m\u001b[43m,\u001b[49m\n\u001b[1;32m    263\u001b[0m \u001b[43m    \u001b[49m\u001b[43m)\u001b[49m\n\u001b[1;32m    264\u001b[0m \u001b[38;5;28;01melif\u001b[39;00m \u001b[38;5;28mhasattr\u001b[39m(cloned_transformer, \u001b[38;5;124m\"\u001b[39m\u001b[38;5;124mfit_resample\u001b[39m\u001b[38;5;124m\"\u001b[39m):\n\u001b[1;32m    265\u001b[0m     X, y, fitted_transformer \u001b[38;5;241m=\u001b[39m fit_resample_one_cached(\n\u001b[1;32m    266\u001b[0m         cloned_transformer,\n\u001b[1;32m    267\u001b[0m         X,\n\u001b[0;32m   (...)\u001b[0m\n\u001b[1;32m    271\u001b[0m         params\u001b[38;5;241m=\u001b[39mrouted_params[name],\n\u001b[1;32m    272\u001b[0m     )\n",
            "File \u001b[0;32m~/micromamba/envs/learn-env/lib/python3.9/site-packages/joblib/memory.py:353\u001b[0m, in \u001b[0;36mNotMemorizedFunc.__call__\u001b[0;34m(self, *args, **kwargs)\u001b[0m\n\u001b[1;32m    352\u001b[0m \u001b[38;5;28;01mdef\u001b[39;00m \u001b[38;5;21m__call__\u001b[39m(\u001b[38;5;28mself\u001b[39m, \u001b[38;5;241m*\u001b[39margs, \u001b[38;5;241m*\u001b[39m\u001b[38;5;241m*\u001b[39mkwargs):\n\u001b[0;32m--> 353\u001b[0m     \u001b[38;5;28;01mreturn\u001b[39;00m \u001b[38;5;28;43mself\u001b[39;49m\u001b[38;5;241;43m.\u001b[39;49m\u001b[43mfunc\u001b[49m\u001b[43m(\u001b[49m\u001b[38;5;241;43m*\u001b[39;49m\u001b[43margs\u001b[49m\u001b[43m,\u001b[49m\u001b[43m \u001b[49m\u001b[38;5;241;43m*\u001b[39;49m\u001b[38;5;241;43m*\u001b[39;49m\u001b[43mkwargs\u001b[49m\u001b[43m)\u001b[49m\n",
            "File \u001b[0;32m~/micromamba/envs/learn-env/lib/python3.9/site-packages/imblearn/pipeline.py:1104\u001b[0m, in \u001b[0;36m_fit_transform_one\u001b[0;34m(transformer, X, y, weight, message_clsname, message, params)\u001b[0m\n\u001b[1;32m   1102\u001b[0m \u001b[38;5;28;01mwith\u001b[39;00m _print_elapsed_time(message_clsname, message):\n\u001b[1;32m   1103\u001b[0m     \u001b[38;5;28;01mif\u001b[39;00m \u001b[38;5;28mhasattr\u001b[39m(transformer, \u001b[38;5;124m\"\u001b[39m\u001b[38;5;124mfit_transform\u001b[39m\u001b[38;5;124m\"\u001b[39m):\n\u001b[0;32m-> 1104\u001b[0m         res \u001b[38;5;241m=\u001b[39m \u001b[43mtransformer\u001b[49m\u001b[38;5;241;43m.\u001b[39;49m\u001b[43mfit_transform\u001b[49m\u001b[43m(\u001b[49m\u001b[43mX\u001b[49m\u001b[43m,\u001b[49m\u001b[43m \u001b[49m\u001b[43my\u001b[49m\u001b[43m,\u001b[49m\u001b[43m \u001b[49m\u001b[38;5;241;43m*\u001b[39;49m\u001b[38;5;241;43m*\u001b[39;49m\u001b[43mparams\u001b[49m\u001b[38;5;241;43m.\u001b[39;49m\u001b[43mget\u001b[49m\u001b[43m(\u001b[49m\u001b[38;5;124;43m\"\u001b[39;49m\u001b[38;5;124;43mfit_transform\u001b[39;49m\u001b[38;5;124;43m\"\u001b[39;49m\u001b[43m,\u001b[49m\u001b[43m \u001b[49m\u001b[43m{\u001b[49m\u001b[43m}\u001b[49m\u001b[43m)\u001b[49m\u001b[43m)\u001b[49m\n\u001b[1;32m   1105\u001b[0m     \u001b[38;5;28;01melse\u001b[39;00m:\n\u001b[1;32m   1106\u001b[0m         res \u001b[38;5;241m=\u001b[39m transformer\u001b[38;5;241m.\u001b[39mfit(X, y, \u001b[38;5;241m*\u001b[39m\u001b[38;5;241m*\u001b[39mparams\u001b[38;5;241m.\u001b[39mget(\u001b[38;5;124m\"\u001b[39m\u001b[38;5;124mfit\u001b[39m\u001b[38;5;124m\"\u001b[39m, {}))\u001b[38;5;241m.\u001b[39mtransform(\n\u001b[1;32m   1107\u001b[0m             X, \u001b[38;5;241m*\u001b[39m\u001b[38;5;241m*\u001b[39mparams\u001b[38;5;241m.\u001b[39mget(\u001b[38;5;124m\"\u001b[39m\u001b[38;5;124mtransform\u001b[39m\u001b[38;5;124m\"\u001b[39m, {})\n\u001b[1;32m   1108\u001b[0m         )\n",
            "File \u001b[0;32m~/micromamba/envs/learn-env/lib/python3.9/site-packages/sklearn/utils/_set_output.py:273\u001b[0m, in \u001b[0;36m_wrap_method_output.<locals>.wrapped\u001b[0;34m(self, X, *args, **kwargs)\u001b[0m\n\u001b[1;32m    271\u001b[0m \u001b[38;5;129m@wraps\u001b[39m(f)\n\u001b[1;32m    272\u001b[0m \u001b[38;5;28;01mdef\u001b[39;00m \u001b[38;5;21mwrapped\u001b[39m(\u001b[38;5;28mself\u001b[39m, X, \u001b[38;5;241m*\u001b[39margs, \u001b[38;5;241m*\u001b[39m\u001b[38;5;241m*\u001b[39mkwargs):\n\u001b[0;32m--> 273\u001b[0m     data_to_wrap \u001b[38;5;241m=\u001b[39m \u001b[43mf\u001b[49m\u001b[43m(\u001b[49m\u001b[38;5;28;43mself\u001b[39;49m\u001b[43m,\u001b[49m\u001b[43m \u001b[49m\u001b[43mX\u001b[49m\u001b[43m,\u001b[49m\u001b[43m \u001b[49m\u001b[38;5;241;43m*\u001b[39;49m\u001b[43margs\u001b[49m\u001b[43m,\u001b[49m\u001b[43m \u001b[49m\u001b[38;5;241;43m*\u001b[39;49m\u001b[38;5;241;43m*\u001b[39;49m\u001b[43mkwargs\u001b[49m\u001b[43m)\u001b[49m\n\u001b[1;32m    274\u001b[0m     \u001b[38;5;28;01mif\u001b[39;00m \u001b[38;5;28misinstance\u001b[39m(data_to_wrap, \u001b[38;5;28mtuple\u001b[39m):\n\u001b[1;32m    275\u001b[0m         \u001b[38;5;66;03m# only wrap the first output for cross decomposition\u001b[39;00m\n\u001b[1;32m    276\u001b[0m         return_tuple \u001b[38;5;241m=\u001b[39m (\n\u001b[1;32m    277\u001b[0m             _wrap_data_with_container(method, data_to_wrap[\u001b[38;5;241m0\u001b[39m], X, \u001b[38;5;28mself\u001b[39m),\n\u001b[1;32m    278\u001b[0m             \u001b[38;5;241m*\u001b[39mdata_to_wrap[\u001b[38;5;241m1\u001b[39m:],\n\u001b[1;32m    279\u001b[0m         )\n",
            "File \u001b[0;32m~/micromamba/envs/learn-env/lib/python3.9/site-packages/sklearn/base.py:1351\u001b[0m, in \u001b[0;36m_fit_context.<locals>.decorator.<locals>.wrapper\u001b[0;34m(estimator, *args, **kwargs)\u001b[0m\n\u001b[1;32m   1344\u001b[0m     estimator\u001b[38;5;241m.\u001b[39m_validate_params()\n\u001b[1;32m   1346\u001b[0m \u001b[38;5;28;01mwith\u001b[39;00m config_context(\n\u001b[1;32m   1347\u001b[0m     skip_parameter_validation\u001b[38;5;241m=\u001b[39m(\n\u001b[1;32m   1348\u001b[0m         prefer_skip_nested_validation \u001b[38;5;129;01mor\u001b[39;00m global_skip_validation\n\u001b[1;32m   1349\u001b[0m     )\n\u001b[1;32m   1350\u001b[0m ):\n\u001b[0;32m-> 1351\u001b[0m     \u001b[38;5;28;01mreturn\u001b[39;00m \u001b[43mfit_method\u001b[49m\u001b[43m(\u001b[49m\u001b[43mestimator\u001b[49m\u001b[43m,\u001b[49m\u001b[43m \u001b[49m\u001b[38;5;241;43m*\u001b[39;49m\u001b[43margs\u001b[49m\u001b[43m,\u001b[49m\u001b[43m \u001b[49m\u001b[38;5;241;43m*\u001b[39;49m\u001b[38;5;241;43m*\u001b[39;49m\u001b[43mkwargs\u001b[49m\u001b[43m)\u001b[49m\n",
            "File \u001b[0;32m~/micromamba/envs/learn-env/lib/python3.9/site-packages/sklearn/compose/_column_transformer.py:914\u001b[0m, in \u001b[0;36mColumnTransformer.fit_transform\u001b[0;34m(self, X, y, **params)\u001b[0m\n\u001b[1;32m    911\u001b[0m \u001b[38;5;28;01melse\u001b[39;00m:\n\u001b[1;32m    912\u001b[0m     routed_params \u001b[38;5;241m=\u001b[39m \u001b[38;5;28mself\u001b[39m\u001b[38;5;241m.\u001b[39m_get_empty_routing()\n\u001b[0;32m--> 914\u001b[0m result \u001b[38;5;241m=\u001b[39m \u001b[38;5;28;43mself\u001b[39;49m\u001b[38;5;241;43m.\u001b[39;49m\u001b[43m_call_func_on_transformers\u001b[49m\u001b[43m(\u001b[49m\n\u001b[1;32m    915\u001b[0m \u001b[43m    \u001b[49m\u001b[43mX\u001b[49m\u001b[43m,\u001b[49m\n\u001b[1;32m    916\u001b[0m \u001b[43m    \u001b[49m\u001b[43my\u001b[49m\u001b[43m,\u001b[49m\n\u001b[1;32m    917\u001b[0m \u001b[43m    \u001b[49m\u001b[43m_fit_transform_one\u001b[49m\u001b[43m,\u001b[49m\n\u001b[1;32m    918\u001b[0m \u001b[43m    \u001b[49m\u001b[43mcolumn_as_labels\u001b[49m\u001b[38;5;241;43m=\u001b[39;49m\u001b[38;5;28;43;01mFalse\u001b[39;49;00m\u001b[43m,\u001b[49m\n\u001b[1;32m    919\u001b[0m \u001b[43m    \u001b[49m\u001b[43mrouted_params\u001b[49m\u001b[38;5;241;43m=\u001b[39;49m\u001b[43mrouted_params\u001b[49m\u001b[43m,\u001b[49m\n\u001b[1;32m    920\u001b[0m \u001b[43m\u001b[49m\u001b[43m)\u001b[49m\n\u001b[1;32m    922\u001b[0m \u001b[38;5;28;01mif\u001b[39;00m \u001b[38;5;129;01mnot\u001b[39;00m result:\n\u001b[1;32m    923\u001b[0m     \u001b[38;5;28mself\u001b[39m\u001b[38;5;241m.\u001b[39m_update_fitted_transformers([])\n",
            "File \u001b[0;32m~/micromamba/envs/learn-env/lib/python3.9/site-packages/sklearn/compose/_column_transformer.py:823\u001b[0m, in \u001b[0;36mColumnTransformer._call_func_on_transformers\u001b[0;34m(self, X, y, func, column_as_labels, routed_params)\u001b[0m\n\u001b[1;32m    811\u001b[0m             extra_args \u001b[38;5;241m=\u001b[39m {}\n\u001b[1;32m    812\u001b[0m         jobs\u001b[38;5;241m.\u001b[39mappend(\n\u001b[1;32m    813\u001b[0m             delayed(func)(\n\u001b[1;32m    814\u001b[0m                 transformer\u001b[38;5;241m=\u001b[39mclone(trans) \u001b[38;5;28;01mif\u001b[39;00m \u001b[38;5;129;01mnot\u001b[39;00m fitted \u001b[38;5;28;01melse\u001b[39;00m trans,\n\u001b[0;32m   (...)\u001b[0m\n\u001b[1;32m    820\u001b[0m             )\n\u001b[1;32m    821\u001b[0m         )\n\u001b[0;32m--> 823\u001b[0m     \u001b[38;5;28;01mreturn\u001b[39;00m \u001b[43mParallel\u001b[49m\u001b[43m(\u001b[49m\u001b[43mn_jobs\u001b[49m\u001b[38;5;241;43m=\u001b[39;49m\u001b[38;5;28;43mself\u001b[39;49m\u001b[38;5;241;43m.\u001b[39;49m\u001b[43mn_jobs\u001b[49m\u001b[43m)\u001b[49m\u001b[43m(\u001b[49m\u001b[43mjobs\u001b[49m\u001b[43m)\u001b[49m\n\u001b[1;32m    825\u001b[0m \u001b[38;5;28;01mexcept\u001b[39;00m \u001b[38;5;167;01mValueError\u001b[39;00m \u001b[38;5;28;01mas\u001b[39;00m e:\n\u001b[1;32m    826\u001b[0m     \u001b[38;5;28;01mif\u001b[39;00m \u001b[38;5;124m\"\u001b[39m\u001b[38;5;124mExpected 2D array, got 1D array instead\u001b[39m\u001b[38;5;124m\"\u001b[39m \u001b[38;5;129;01min\u001b[39;00m \u001b[38;5;28mstr\u001b[39m(e):\n",
            "File \u001b[0;32m~/micromamba/envs/learn-env/lib/python3.9/site-packages/sklearn/utils/parallel.py:67\u001b[0m, in \u001b[0;36mParallel.__call__\u001b[0;34m(self, iterable)\u001b[0m\n\u001b[1;32m     62\u001b[0m config \u001b[38;5;241m=\u001b[39m get_config()\n\u001b[1;32m     63\u001b[0m iterable_with_config \u001b[38;5;241m=\u001b[39m (\n\u001b[1;32m     64\u001b[0m     (_with_config(delayed_func, config), args, kwargs)\n\u001b[1;32m     65\u001b[0m     \u001b[38;5;28;01mfor\u001b[39;00m delayed_func, args, kwargs \u001b[38;5;129;01min\u001b[39;00m iterable\n\u001b[1;32m     66\u001b[0m )\n\u001b[0;32m---> 67\u001b[0m \u001b[38;5;28;01mreturn\u001b[39;00m \u001b[38;5;28;43msuper\u001b[39;49m\u001b[43m(\u001b[49m\u001b[43m)\u001b[49m\u001b[38;5;241;43m.\u001b[39;49m\u001b[38;5;21;43m__call__\u001b[39;49m\u001b[43m(\u001b[49m\u001b[43miterable_with_config\u001b[49m\u001b[43m)\u001b[49m\n",
            "File \u001b[0;32m~/micromamba/envs/learn-env/lib/python3.9/site-packages/joblib/parallel.py:1952\u001b[0m, in \u001b[0;36mParallel.__call__\u001b[0;34m(self, iterable)\u001b[0m\n\u001b[1;32m   1946\u001b[0m \u001b[38;5;66;03m# The first item from the output is blank, but it makes the interpreter\u001b[39;00m\n\u001b[1;32m   1947\u001b[0m \u001b[38;5;66;03m# progress until it enters the Try/Except block of the generator and\u001b[39;00m\n\u001b[1;32m   1948\u001b[0m \u001b[38;5;66;03m# reach the first `yield` statement. This starts the aynchronous\u001b[39;00m\n\u001b[1;32m   1949\u001b[0m \u001b[38;5;66;03m# dispatch of the tasks to the workers.\u001b[39;00m\n\u001b[1;32m   1950\u001b[0m \u001b[38;5;28mnext\u001b[39m(output)\n\u001b[0;32m-> 1952\u001b[0m \u001b[38;5;28;01mreturn\u001b[39;00m output \u001b[38;5;28;01mif\u001b[39;00m \u001b[38;5;28mself\u001b[39m\u001b[38;5;241m.\u001b[39mreturn_generator \u001b[38;5;28;01melse\u001b[39;00m \u001b[38;5;28;43mlist\u001b[39;49m\u001b[43m(\u001b[49m\u001b[43moutput\u001b[49m\u001b[43m)\u001b[49m\n",
            "File \u001b[0;32m~/micromamba/envs/learn-env/lib/python3.9/site-packages/joblib/parallel.py:1595\u001b[0m, in \u001b[0;36mParallel._get_outputs\u001b[0;34m(self, iterator, pre_dispatch)\u001b[0m\n\u001b[1;32m   1592\u001b[0m     \u001b[38;5;28;01myield\u001b[39;00m\n\u001b[1;32m   1594\u001b[0m     \u001b[38;5;28;01mwith\u001b[39;00m \u001b[38;5;28mself\u001b[39m\u001b[38;5;241m.\u001b[39m_backend\u001b[38;5;241m.\u001b[39mretrieval_context():\n\u001b[0;32m-> 1595\u001b[0m         \u001b[38;5;28;01myield from\u001b[39;00m \u001b[38;5;28mself\u001b[39m\u001b[38;5;241m.\u001b[39m_retrieve()\n\u001b[1;32m   1597\u001b[0m \u001b[38;5;28;01mexcept\u001b[39;00m \u001b[38;5;167;01mGeneratorExit\u001b[39;00m:\n\u001b[1;32m   1598\u001b[0m     \u001b[38;5;66;03m# The generator has been garbage collected before being fully\u001b[39;00m\n\u001b[1;32m   1599\u001b[0m     \u001b[38;5;66;03m# consumed. This aborts the remaining tasks if possible and warn\u001b[39;00m\n\u001b[1;32m   1600\u001b[0m     \u001b[38;5;66;03m# the user if necessary.\u001b[39;00m\n\u001b[1;32m   1601\u001b[0m     \u001b[38;5;28mself\u001b[39m\u001b[38;5;241m.\u001b[39m_exception \u001b[38;5;241m=\u001b[39m \u001b[38;5;28;01mTrue\u001b[39;00m\n",
            "File \u001b[0;32m~/micromamba/envs/learn-env/lib/python3.9/site-packages/joblib/parallel.py:1707\u001b[0m, in \u001b[0;36mParallel._retrieve\u001b[0;34m(self)\u001b[0m\n\u001b[1;32m   1702\u001b[0m \u001b[38;5;66;03m# If the next job is not ready for retrieval yet, we just wait for\u001b[39;00m\n\u001b[1;32m   1703\u001b[0m \u001b[38;5;66;03m# async callbacks to progress.\u001b[39;00m\n\u001b[1;32m   1704\u001b[0m \u001b[38;5;28;01mif\u001b[39;00m ((\u001b[38;5;28mlen\u001b[39m(\u001b[38;5;28mself\u001b[39m\u001b[38;5;241m.\u001b[39m_jobs) \u001b[38;5;241m==\u001b[39m \u001b[38;5;241m0\u001b[39m) \u001b[38;5;129;01mor\u001b[39;00m\n\u001b[1;32m   1705\u001b[0m     (\u001b[38;5;28mself\u001b[39m\u001b[38;5;241m.\u001b[39m_jobs[\u001b[38;5;241m0\u001b[39m]\u001b[38;5;241m.\u001b[39mget_status(\n\u001b[1;32m   1706\u001b[0m         timeout\u001b[38;5;241m=\u001b[39m\u001b[38;5;28mself\u001b[39m\u001b[38;5;241m.\u001b[39mtimeout) \u001b[38;5;241m==\u001b[39m TASK_PENDING)):\n\u001b[0;32m-> 1707\u001b[0m     \u001b[43mtime\u001b[49m\u001b[38;5;241;43m.\u001b[39;49m\u001b[43msleep\u001b[49m\u001b[43m(\u001b[49m\u001b[38;5;241;43m0.01\u001b[39;49m\u001b[43m)\u001b[49m\n\u001b[1;32m   1708\u001b[0m     \u001b[38;5;28;01mcontinue\u001b[39;00m\n\u001b[1;32m   1710\u001b[0m \u001b[38;5;66;03m# We need to be careful: the job list can be filling up as\u001b[39;00m\n\u001b[1;32m   1711\u001b[0m \u001b[38;5;66;03m# we empty it and Python list are not thread-safe by\u001b[39;00m\n\u001b[1;32m   1712\u001b[0m \u001b[38;5;66;03m# default hence the use of the lock\u001b[39;00m\n",
            "\u001b[0;31mKeyboardInterrupt\u001b[0m: "
          ]
        }
      ],
      "source": [
        "# assign feature and target variables\n",
        "X = data.drop(columns='MOST_SEVERE_INJURY')\n",
        "y = data['MOST_SEVERE_INJURY']\n",
        "\n",
        "# select categorical and numerical columns from X\n",
        "categorical = X.select_dtypes(include='object').columns.tolist()\n",
        "numerical = X.select_dtypes(include=['float64', 'int64']).columns.tolist()\n",
        "\n",
        "# encode target variable\n",
        "label_encoder = LabelEncoder()\n",
        "y = label_encoder.fit_transform(y)\n",
        "\n",
        "# split data into training and testing sets\n",
        "X_train, X_test, y_train, y_test = train_test_split(X, y, test_size=0.2, random_state=42, stratify=y)\n",
        "\n",
        "# define numerical and categorical transformers\n",
        "numerical_transformer = Pipeline([\n",
        "    ('anova', ANOVATransformer()),\n",
        "    ('scaler', StandardScaler())\n",
        "])\n",
        "\n",
        "categorical_transformer = Pipeline([\n",
        "    ('chi2', ChiSquareTransformer()),\n",
        "    # ('ohe', OneHotEncoder(handle_unknown='ignore', sparse_output=True))\n",
        "])\n",
        "\n",
        "# Define preprocessor\n",
        "preprocessor = ColumnTransformer(\n",
        "    transformers=[\n",
        "        ('numerical', numerical_transformer, numerical),\n",
        "        ('categorical', categorical_transformer, categorical)\n",
        "    ],\n",
        "    # parallelize operations\n",
        "    n_jobs=-1  \n",
        "    )\n",
        "\n",
        "# create pipeline\n",
        "pipeline = Pipeline([\n",
        "    ('preprocessor', preprocessor),\n",
        "\n",
        "    ## SMOTE overfits the model\n",
        "    # ('smote', SMOTE(random_state=42)),\n",
        "\n",
        "    ('classifier', LogisticRegression(\n",
        "        random_state=42,\n",
        "        max_iter=100,\n",
        "        class_weight='balanced',\n",
        "        penalty='l2',\n",
        "        C=1.0\n",
        "    ))\n",
        "])\n",
        "\n",
        "# fit pipeline\n",
        "pipeline.fit(X_train, y_train)\n",
        "\n",
        "# predict\n",
        "y_pred = pipeline.predict(X_test)\n",
        "y_pred_proba = pipeline.predict_proba(X_test)[:, 1]"
      ]
    },
    {
      "cell_type": "markdown",
      "metadata": {},
      "source": [
        "### Classification Report"
      ]
    },
    {
      "cell_type": "markdown",
      "metadata": {},
      "source": [
        "### Confusion Matrix"
      ]
    },
    {
      "cell_type": "code",
      "execution_count": 146,
      "metadata": {},
      "outputs": [
        {
          "data": {
            "image/png": "[encoded data removed]",
            "text/plain": [
              "<Figure size 640x480 with 2 Axes>"
            ]
          },
          "metadata": {},
          "output_type": "display_data"
        }
      ],
      "source": [
        "# create and display the confusion matrix\n",
        "conf_matrix = confusion_matrix(y_test, y_pred)\n",
        "sns.heatmap(conf_matrix, annot=True, fmt='d', cmap='Blues')\n",
        "plt.xlabel('Predicted')\n",
        "plt.ylabel('Actual')\n",
        "plt.title('Confusion Matrix')\n",
        "plt.show()"
      ]
    },
    {
      "cell_type": "code",
      "execution_count": null,
      "metadata": {},
      "outputs": [
        {
          "name": "stdout",
          "output_type": "stream",
          "text": [
            "              precision    recall  f1-score   support\n",
            "\n",
            "           0       0.02      0.71      0.04      1400\n",
            "           1       0.11      0.28      0.15     19555\n",
            "           2       0.93      0.68      0.79    678668\n",
            "           3       0.33      0.21      0.26     89381\n",
            "           4       0.10      0.38      0.16     51315\n",
            "\n",
            "    accuracy                           0.60    840319\n",
            "   macro avg       0.30      0.45      0.28    840319\n",
            "weighted avg       0.80      0.60      0.68    840319\n",
            "\n"
          ]
        }
      ],
      "source": [
        "# create and display the classification report\n",
        "class_report = classification_report(y_test, y_pred)\n",
        "print(class_report)"
      ]
    },
    {
      "cell_type": "markdown",
      "metadata": {},
      "source": [
        "### Cross-Validation"
      ]
    },
    {
      "cell_type": "code",
      "execution_count": 148,
      "metadata": {},
      "outputs": [
        {
          "name": "stderr",
          "output_type": "stream",
          "text": [
            "/Users/rob/micromamba/envs/learn-env/lib/python3.9/site-packages/sklearn/linear_model/_logistic.py:469: ConvergenceWarning: lbfgs failed to converge (status=1):\n",
            "STOP: TOTAL NO. of ITERATIONS REACHED LIMIT.\n",
            "\n",
            "Increase the number of iterations (max_iter) or scale the data as shown in:\n",
            "    https://scikit-learn.org/stable/modules/preprocessing.html\n",
            "Please also refer to the documentation for alternative solver options:\n",
            "    https://scikit-learn.org/stable/modules/linear_model.html#logistic-regression\n",
            "  n_iter_i = _check_optimize_result(\n",
            "/Users/rob/micromamba/envs/learn-env/lib/python3.9/site-packages/sklearn/linear_model/_logistic.py:469: ConvergenceWarning: lbfgs failed to converge (status=1):\n",
            "STOP: TOTAL NO. of ITERATIONS REACHED LIMIT.\n",
            "\n",
            "Increase the number of iterations (max_iter) or scale the data as shown in:\n",
            "    https://scikit-learn.org/stable/modules/preprocessing.html\n",
            "Please also refer to the documentation for alternative solver options:\n",
            "    https://scikit-learn.org/stable/modules/linear_model.html#logistic-regression\n",
            "  n_iter_i = _check_optimize_result(\n",
            "/Users/rob/micromamba/envs/learn-env/lib/python3.9/site-packages/sklearn/linear_model/_logistic.py:469: ConvergenceWarning: lbfgs failed to converge (status=1):\n",
            "STOP: TOTAL NO. of ITERATIONS REACHED LIMIT.\n",
            "\n",
            "Increase the number of iterations (max_iter) or scale the data as shown in:\n",
            "    https://scikit-learn.org/stable/modules/preprocessing.html\n",
            "Please also refer to the documentation for alternative solver options:\n",
            "    https://scikit-learn.org/stable/modules/linear_model.html#logistic-regression\n",
            "  n_iter_i = _check_optimize_result(\n",
            "/Users/rob/micromamba/envs/learn-env/lib/python3.9/site-packages/sklearn/linear_model/_logistic.py:469: ConvergenceWarning: lbfgs failed to converge (status=1):\n",
            "STOP: TOTAL NO. of ITERATIONS REACHED LIMIT.\n",
            "\n",
            "Increase the number of iterations (max_iter) or scale the data as shown in:\n",
            "    https://scikit-learn.org/stable/modules/preprocessing.html\n",
            "Please also refer to the documentation for alternative solver options:\n",
            "    https://scikit-learn.org/stable/modules/linear_model.html#logistic-regression\n",
            "  n_iter_i = _check_optimize_result(\n",
            "/Users/rob/micromamba/envs/learn-env/lib/python3.9/site-packages/sklearn/linear_model/_logistic.py:469: ConvergenceWarning: lbfgs failed to converge (status=1):\n",
            "STOP: TOTAL NO. of ITERATIONS REACHED LIMIT.\n",
            "\n",
            "Increase the number of iterations (max_iter) or scale the data as shown in:\n",
            "    https://scikit-learn.org/stable/modules/preprocessing.html\n",
            "Please also refer to the documentation for alternative solver options:\n",
            "    https://scikit-learn.org/stable/modules/linear_model.html#logistic-regression\n",
            "  n_iter_i = _check_optimize_result(\n"
          ]
        },
        {
          "name": "stdout",
          "output_type": "stream",
          "text": [
            "Cross-validated scores: [0.60147563 0.60665819 0.58917821 0.59912979 0.60437483]\n"
          ]
        },
        {
          "data": {
            "text/plain": [
              "array([0.60147563, 0.60665819, 0.58917821, 0.59912979, 0.60437483])"
            ]
          },
          "execution_count": 148,
          "metadata": {},
          "output_type": "execute_result"
        }
      ],
      "source": [
        "# cross validate the model\n",
        "cross_val_scores = cross_val_score(pipeline, X_train, y_train, cv=5, scoring='accuracy')\n",
        "print(f'Cross-validated scores: {cross_val_scores}')\n",
        "\n",
        "cross_val_scores"
      ]
    },
    {
      "cell_type": "code",
      "execution_count": 149,
      "metadata": {},
      "outputs": [
        {
          "data": {
            "text/plain": [
              "array([0.60147563, 0.60665819, 0.58917821, 0.59912979, 0.60437483])"
            ]
          },
          "execution_count": 149,
          "metadata": {},
          "output_type": "execute_result"
        }
      ],
      "source": [
        "cross_val_scores"
      ]
    }
  ],
  "metadata": {
    "kernelspec": {
      "display_name": "Python 3",
      "language": "python",
      "name": "python3"
    },
    "language_info": {
      "codemirror_mode": {
        "name": "ipython",
        "version": 3
      },
      "file_extension": ".py",
      "mimetype": "text/x-python",
      "name": "python",
      "nbconvert_exporter": "python",
      "pygments_lexer": "ipython3",
      "version": "3.9.18"
    }
  },
  "nbformat": 4,
  "nbformat_minor": 2
}
